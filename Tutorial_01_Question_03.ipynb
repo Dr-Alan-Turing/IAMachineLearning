{
 "cells": [
  {
   "cell_type": "markdown",
   "metadata": {},
   "source": [
    "# Tutorial 1\n",
    "## Question 3\n",
    "\n",
    "Whizzco decide to make a text classifier. To begin with they attempt to classify documents as either\n",
    "sport or politics. They decide to represent each document as a (row) vector of attributes describing the\n",
    "presence or absence of words.\n",
    "\n",
    "x = (goal, football, golf, defence, offence, wicket, office,strategy)\n",
    "\n",
    "Training data from sport documents and from politics documents is represented below using a matrix in\n",
    "which each row represents a (row) vector of the 8 attributes.\n",
    "\n",
    "xP=[1 0 1 1 1 0 1 1; % Politics<br/>\n",
    "0 0 0 1 0 0 1 1;<br/>\n",
    "1 0 0 1 1 0 1 0;<br/>\n",
    "0 1 0 0 1 1 0 1;<br/>\n",
    "0 0 0 1 1 0 1 1;<br/>\n",
    "0 0 0 1 1 0 0 1]\n",
    "\n",
    "xS=[1 1 0 0 0 0 0 0; % Sport<br/>\n",
    "0 0 1 0 0 0 0 0;<br/>\n",
    "1 1 0 1 0 0 0 0;<br/>\n",
    "1 1 0 1 0 0 0 1;<br/>\n",
    "1 1 0 1 1 0 0 0;<br/>\n",
    "0 0 0 1 0 1 0 0;<br/>\n",
    "1 1 1 1 1 0 1 0]\n",
    "\n",
    "Using a Naive Bayes classifier, what is the probability that the document x = (1, 0, 0, 1, 1, 1, 1, 0) is about\n",
    "politics?"
   ]
  },
  {
   "cell_type": "code",
   "execution_count": 68,
   "metadata": {
    "collapsed": true
   },
   "outputs": [],
   "source": [
    "# Import libraries\n",
    "import numpy as np\n",
    "import pandas as pd\n",
    "from sklearn.naive_bayes import GaussianNB"
   ]
  },
  {
   "cell_type": "code",
   "execution_count": 69,
   "metadata": {
    "collapsed": false
   },
   "outputs": [
    {
     "name": "stdout",
     "output_type": "stream",
     "text": [
      "Gaussian predicted class politics with a probability of 0.935975523279\n"
     ]
    },
    {
     "name": "stderr",
     "output_type": "stream",
     "text": [
      "C:\\Program Files\\Anaconda2\\envs\\iaml\\lib\\site-packages\\sklearn\\utils\\validation.py:386: DeprecationWarning: Passing 1d arrays as data is deprecated in 0.17 and willraise ValueError in 0.19. Reshape your data either using X.reshape(-1, 1) if your data has a single feature or X.reshape(1, -1) if it contains a single sample.\n",
      "  DeprecationWarning)\n",
      "C:\\Program Files\\Anaconda2\\envs\\iaml\\lib\\site-packages\\sklearn\\utils\\validation.py:386: DeprecationWarning: Passing 1d arrays as data is deprecated in 0.17 and willraise ValueError in 0.19. Reshape your data either using X.reshape(-1, 1) if your data has a single feature or X.reshape(1, -1) if it contains a single sample.\n",
      "  DeprecationWarning)\n"
     ]
    }
   ],
   "source": [
    "# Initialise politics matrix\n",
    "xP = [\n",
    "[1,0,1,1,1,0,1,1,'politics'],\n",
    "[0,0,0,1,0,0,1,1,'politics'],\n",
    "[1,0,0,1,1,0,1,0,'politics'],\n",
    "[0,1,0,0,1,1,0,1,'politics'],\n",
    "[0,0,0,1,1,0,1,1,'politics'],\n",
    "[0,0,0,1,1,0,0,1,'politics']]\n",
    "# Initialise sports matrix\n",
    "xS = [\n",
    "[1,1,0,0,0,0,0,0,'sports'],\n",
    "[0,0,1,0,0,0,0,0,'sports'],\n",
    "[1,1,0,1,0,0,0,0,'sports'],\n",
    "[1,1,0,1,0,0,0,1,'sports'],\n",
    "[1,1,0,1,1,0,0,0,'sports'],\n",
    "[0,0,0,1,0,1,0,0,'sports'],\n",
    "[1,1,1,1,1,0,1,0,'sports']]\n",
    "# Combine politics and sports data into main matrix\n",
    "M = np.concatenate((xP, xS))\n",
    "# Create pandas dataset for ease of use\n",
    "dataset = pd.DataFrame(M, columns=['goal', 'football', 'golf', 'defence', 'offence', 'wicket', 'office' , 'strategy', 'category'])\n",
    "# Retrieve input features and target of training set\n",
    "X = dataset.drop({'category'}, axis=1)\n",
    "y = dataset['category']\n",
    "# Fit data to Gaussian Naive Bayes\n",
    "gnb_classifier = GaussianNB()\n",
    "gnb_classifier.fit(X, y)\n",
    "# Predict for x\n",
    "x = [1, 0, 0, 1, 1, 1, 1, 0]\n",
    "x_gnb_pred = gnb_classifier.predict(x)[0]\n",
    "x_gnb_pred_prob = gnb_classifier.predict_proba(x)[0][0]\n",
    "print(\"Gaussian predicted class \" + x_gnb_pred + \" with a probability of \" + str(x_gnb_pred_prob))"
   ]
  },
  {
   "cell_type": "code",
   "execution_count": null,
   "metadata": {
    "collapsed": true
   },
   "outputs": [],
   "source": []
  }
 ],
 "metadata": {
  "kernelspec": {
   "display_name": "Python [iaml]",
   "language": "python",
   "name": "Python [iaml]"
  },
  "language_info": {
   "codemirror_mode": {
    "name": "ipython",
    "version": 2
   },
   "file_extension": ".py",
   "mimetype": "text/x-python",
   "name": "python",
   "nbconvert_exporter": "python",
   "pygments_lexer": "ipython2",
   "version": "2.7.12"
  }
 },
 "nbformat": 4,
 "nbformat_minor": 0
}
