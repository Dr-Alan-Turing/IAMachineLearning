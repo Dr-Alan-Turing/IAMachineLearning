{
 "cells": [
  {
   "cell_type": "markdown",
   "metadata": {},
   "source": [
    "# Tutorial 1\n",
    "## Question 3\n",
    "\n",
    "Whizzco decide to make a text classifier. To begin with they attempt to classify documents as either\n",
    "sport or politics. They decide to represent each document as a (row) vector of attributes describing the\n",
    "presence or absence of words.\n",
    "\n",
    "x = (goal, football, golf, defence, offence, wicket, office,strategy)\n",
    "\n",
    "Training data from sport documents and from politics documents is represented below using a matrix in\n",
    "which each row represents a (row) vector of the 8 attributes.\n",
    "\n",
    "xP=[1 0 1 1 1 0 1 1; % Politics<br/>\n",
    "0 0 0 1 0 0 1 1;<br/>\n",
    "1 0 0 1 1 0 1 0;<br/>\n",
    "0 1 0 0 1 1 0 1;<br/>\n",
    "0 0 0 1 1 0 1 1;<br/>\n",
    "0 0 0 1 1 0 0 1]\n",
    "\n",
    "xS=[1 1 0 0 0 0 0 0; % Sport<br/>\n",
    "0 0 1 0 0 0 0 0;<br/>\n",
    "1 1 0 1 0 0 0 0;<br/>\n",
    "1 1 0 1 0 0 0 1;<br/>\n",
    "1 1 0 1 1 0 0 0;<br/>\n",
    "0 0 0 1 0 1 0 0;<br/>\n",
    "1 1 1 1 1 0 1 0]\n",
    "\n",
    "Using a Naive Bayes classifier, what is the probability that the document x = (1, 0, 0, 1, 1, 1, 1, 0) is about\n",
    "politics?"
   ]
  },
  {
   "cell_type": "code",
   "execution_count": null,
   "metadata": {
    "collapsed": true
   },
   "outputs": [],
   "source": []
  }
 ],
 "metadata": {
  "kernelspec": {
   "display_name": "Python [iaml]",
   "language": "python",
   "name": "Python [iaml]"
  },
  "language_info": {
   "codemirror_mode": {
    "name": "ipython",
    "version": 2
   },
   "file_extension": ".py",
   "mimetype": "text/x-python",
   "name": "python",
   "nbconvert_exporter": "python",
   "pygments_lexer": "ipython2",
   "version": "2.7.12"
  }
 },
 "nbformat": 4,
 "nbformat_minor": 0
}
