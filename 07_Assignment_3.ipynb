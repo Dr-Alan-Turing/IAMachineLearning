{
 "cells": [
  {
   "cell_type": "markdown",
   "metadata": {},
   "source": [
    "# Introductory applied machine learning (INFR10069)"
   ]
  },
  {
   "cell_type": "markdown",
   "metadata": {},
   "source": [
    "# Assignment 3: Object recognition"
   ]
  },
  {
   "cell_type": "markdown",
   "metadata": {},
   "source": [
    "## Marking Breakdown\n",
    "\n",
    "**70-100%** results/answer correct plus extra achievement at understanding or analysis of results. Clear explanations, evidence of creative or deeper thought will contribute to a higher grade.\n",
    "\n",
    "**60-69%** results/answer correct or nearly correct and well explained.\n",
    "\n",
    "**50-59%** results/answer in right direction but significant errors.\n",
    "\n",
    "**40-49%** some evidence that the student has gained some understanding, but not answered the questions\n",
    "properly.\n",
    "\n",
    "**0-39%** serious error or slack work."
   ]
  },
  {
   "cell_type": "markdown",
   "metadata": {},
   "source": [
    "## Mechanics\n",
    "\n",
    "You should produce a Jupyter notebook and a `.txt` file (see Part 2) in answer to this assignment.\n",
    "**You need to submit these two files electronically as described below.**\n",
    "\n",
    "Place your notebook and `.txt` files **only** in a directory called `iamlans` and submit this directory using the submit command on a DICE machine. The format is:\n",
    "\n",
    "`submit iaml 3 iamlans`\n",
    "\n",
    "You can check the status of your submissions with the `show_submissions` command.\n",
    "\n",
    "**Late submissions:** The policy stated in the School of Informatics MSc Degree Guide is that normally you will not be allowed to submit coursework late. See http://www.inf.ed.ac.uk/teaching/years/msc/courseguide10.html#exam for exceptions to this, e.g. in case of serious medical illness or serious personal problems.\n",
    "\n",
    "**Collaboration:** You may discuss the assignment with your colleagues, provided that the writing that you submit is entirely your own. That is, you should NOT borrow actual text or code from other students. We ask that you provide a list of the people who you've had discussions with (if any).\n"
   ]
  },
  {
   "cell_type": "markdown",
   "metadata": {},
   "source": [
    "## Important Instructions\n",
    "\n",
    "1. In the following questions you are asked to run experiments using Python (version 2.7) and the following packages:\n",
    "    * Numpy\n",
    "    * Pandas\n",
    "    * Scikit-learn 0.17\n",
    "    * Matplotlib\n",
    "    * Seaborn\n",
    "\n",
    "2. Before you start make sure you have set up a vitual environment (or conda environment if you are working on your own machine) and the required packages installed. Instructions on how to set-up the working enviornment and install the required packages can be found in `01_Lab_1_Introduction`.\n",
    "\n",
    "3. Wherever you are required to produce code you should use code cells, otherwise you should use markdown cells to report results and explain answers.\n",
    "\n",
    "4. The .csv files that you will be using are located at `./datasets` (the `datasets` directory is adjacent to this file).\n",
    "\n",
    "5. **IMPORTANT:** Keep your answers brief and concise. Most questions can be answered with 2-3 lines of explanation (excluding coding questions), unless stated otherwise."
   ]
  },
  {
   "cell_type": "markdown",
   "metadata": {},
   "source": [
    "## Imports\n",
    "\n",
    "In this assignment you are asked to import all the packages and modules you will need. Include all required imports and execute the cell below."
   ]
  },
  {
   "cell_type": "code",
   "execution_count": 64,
   "metadata": {
    "collapsed": false
   },
   "outputs": [],
   "source": [
    "from __future__ import print_function, division\n",
    "%matplotlib inline\n",
    "\n",
    "# Other imports\n",
    "import os\n",
    "import numpy as np \n",
    "import pandas as pd\n",
    "import matplotlib.pyplot as plt\n",
    "import seaborn as sns\n",
    "from sklearn.preprocessing import LabelEncoder\n",
    "from sklearn.linear_model import LogisticRegression\n",
    "from sklearn.svm import LinearSVC, SVC\n",
    "from sklearn.neighbors import KNeighborsClassifier\n",
    "from sklearn.metrics import confusion_matrix, log_loss\n",
    "\n",
    "from sklearn.preprocessing import StandardScaler\n",
    "from sklearn.cross_validation import KFold, cross_val_predict\n",
    "from sklearn.metrics import accuracy_score\n",
    "from sklearn.linear_model import LogisticRegressionCV\n",
    "from numpy import unravel_index\n",
    "from sklearn.tree import DecisionTreeClassifier, ExtraTreeClassifier\n",
    "from sklearn.ensemble import RandomForestClassifier"
   ]
  },
  {
   "cell_type": "markdown",
   "metadata": {},
   "source": [
    "## Description of the dataset\n",
    "In this assignment our goal is to recognize objects from 19 di\u000b",
    "erent visual classes (e.g. person, dog, cat, car, ...) in realistic scenes. The dataset consists of several thousands photographs harvested from the web. Each object of a relevant class has been manually annotated with a bounding box. Images can contain none, one or multiple objects of each class. We have prepared a [website](http://www.inf.ed.ac.uk/teaching/courses/iaml/2014/assts/asst3/images.html) where you can view the images.\n",
    "\n",
    "Here we will focus on a single classiffication task: you will be required to classify images as to whether or not they contain a person. To save you time and to make the problem manageable with limited computational resources, we have preprocessed the dataset. We will use the [Bag of Visual Words](https://en.wikipedia.org/wiki/Bag-of-words_model_in_computer_vision) representation. That is, each image is represented by a 500 dimensional vector that contains the normalized count for each of 500 diffeerent visual words present in the respective image (a similar representation is used for the spambase dataset, just for real words). Visual words are based on [Scale-invariant feature transforms (SIFT)](https://en.wikipedia.org/wiki/Scale-invariant_feature_transform). SIFT features are essentially local orientation histograms and capture the properties of small image regions. They possess attractive invariance properties which make them well suited for our task (you can read more about SIFT features in [D.Lowe, IJCV 60(2):91- 110, 2004](http://link.springer.com/article/10.1023/B:VISI.0000029664.99615.94), but the details don't matter for the purpose of this assignment). Each SIFT feature is a 128 dimensional vector. From each image many SIFT features are extracted, typically > 2500 per image (features are extracted at regular intervals using a 15 pixel grid and at 4 different scales). To obtain visual words a representative subset of all extracted SIFT features from all images is chosen and clustered with k-means using 500 centres (such use of the k-means algorithm will be discussed in detail during the lecture). These 500 cluster centres form our visual words. The representation of a single image is obtained by first assigning each SIFT feature extracted from the image to the appropriate cluster (i.e. we determine the visual word corresponding to each feature by picking the closest cluster centre). We then count the number of features from that image assigned to each cluster (i.e. we determine how often each visual word is present in the image). This results in a 500 dimensional count vector for each image (one dimension for each visual word). The normalized version of this count vector gives the final representation of the image (normalized means that we divide the count vector by the total number of visual words in the image, i.e. the normalized counts sum to 1 for each image). Our dataset with all images is thus a $N \\times 500$ dimensional matrix where `N` is the number of images. The resulting representation is much more compact and can be used directly to perform classiffication.\n",
    "\n",
    "The full dataset has 520 attributes (dimensions). The first attribute (`imgID`) contains the image ID which allows you to associate a data point with an actual image. The next 500 attributes (`dim1`, ..., `dim500`) correspond to the normalized count vector. The last 19 attributes (`is_class`) indicate the presence of at least one object of a particular class in the image. In most of the experiments (unless explicitly noted otherwise) you will be asked to train classiffiers for classifying person vs. non-person images and only the `is_person` attribute and the 500 dimensional feature vector will be used. Do not use the additional class indicator attributes as features unless explicitly told to do so. \n",
    "\n",
    "In Part A we provide you with a training (`train_images partA.csv`) and a validation (`valid_images partA .csv`) dataset. In Part B we provide three data sets: a training set (`train_images partB.csv`), a validation set (`valid_images partB.csv`), and a test set (`test_images partB.csv`). The training and validation set contain valid labels. In the test set the labels are missing. The files are available from the GitHub repository. \n",
    "\n",
    "*Important: Throughout the assignment you will be given various versions of the dataset that are relevant\n",
    "to a particular question. Please be careful to use the correct version of the dataset when instructed to do so.\n",
    "If you use the wrong version of the dataset by mistake no marks will be awarded.*"
   ]
  },
  {
   "cell_type": "markdown",
   "metadata": {},
   "source": [
    "## 1. Exploration of the dataset [70%]"
   ]
  },
  {
   "cell_type": "markdown",
   "metadata": {},
   "source": [
    "### ========== Question 1.1 ==========\n",
    "Load the datasets `train_images_partA.csv` and `valid_images_partA.csv` into two pandas DataFrame called `train_A` and `valid_A`. Display the number of data points and attributes in each of the two datasets."
   ]
  },
  {
   "cell_type": "code",
   "execution_count": 65,
   "metadata": {
    "collapsed": false
   },
   "outputs": [
    {
     "name": "stdout",
     "output_type": "stream",
     "text": [
      "Number of training instances: 2093, number of training attributes: 520\n",
      "Number of validation instances: 1113, number of validation attributes: 520\n"
     ]
    }
   ],
   "source": [
    "# Load the datasets\n",
    "data_path = os.path.join(os.getcwd(), 'datasets', 'train_images_partA.csv')\n",
    "train_A = pd.read_csv(data_path, delimiter = ',')\n",
    "data_path = os.path.join(os.getcwd(), 'datasets', 'valid_images_partA.csv')\n",
    "valid_A = pd.read_csv(data_path, delimiter = ',')\n",
    "# Show number of instances and attributes\n",
    "print('Number of training instances: {}, number of training attributes: {}'.format(train_A.shape[0], train_A.shape[1]))\n",
    "print('Number of validation instances: {}, number of validation attributes: {}'.format(valid_A.shape[0], valid_A.shape[1]))"
   ]
  },
  {
   "cell_type": "markdown",
   "metadata": {},
   "source": [
    "### ========== Question 1.2 ==========\n",
    "Display and inspect the first 10 instances in the training dataset."
   ]
  },
  {
   "cell_type": "code",
   "execution_count": 66,
   "metadata": {
    "collapsed": false
   },
   "outputs": [
    {
     "data": {
      "text/html": [
       "<div>\n",
       "<table border=\"1\" class=\"dataframe\">\n",
       "  <thead>\n",
       "    <tr style=\"text-align: right;\">\n",
       "      <th></th>\n",
       "      <th>imgId</th>\n",
       "      <th>dim1</th>\n",
       "      <th>dim2</th>\n",
       "      <th>dim3</th>\n",
       "      <th>dim4</th>\n",
       "      <th>dim5</th>\n",
       "      <th>dim6</th>\n",
       "      <th>dim7</th>\n",
       "      <th>dim8</th>\n",
       "      <th>dim9</th>\n",
       "      <th>...</th>\n",
       "      <th>is_cow</th>\n",
       "      <th>is_diningtable</th>\n",
       "      <th>is_dog</th>\n",
       "      <th>is_horse</th>\n",
       "      <th>is_motorbike</th>\n",
       "      <th>is_person</th>\n",
       "      <th>is_pottedplant</th>\n",
       "      <th>is_sheep</th>\n",
       "      <th>is_sofa</th>\n",
       "      <th>is_tvmonitor</th>\n",
       "    </tr>\n",
       "  </thead>\n",
       "  <tbody>\n",
       "    <tr>\n",
       "      <th>0</th>\n",
       "      <td>2008_000008</td>\n",
       "      <td>0.002232</td>\n",
       "      <td>0.000558</td>\n",
       "      <td>0.002790</td>\n",
       "      <td>0.000837</td>\n",
       "      <td>0.001674</td>\n",
       "      <td>0.001953</td>\n",
       "      <td>0.001395</td>\n",
       "      <td>0.002232</td>\n",
       "      <td>0.003627</td>\n",
       "      <td>...</td>\n",
       "      <td>0</td>\n",
       "      <td>0</td>\n",
       "      <td>0</td>\n",
       "      <td>1</td>\n",
       "      <td>0</td>\n",
       "      <td>1</td>\n",
       "      <td>0</td>\n",
       "      <td>0</td>\n",
       "      <td>0</td>\n",
       "      <td>0</td>\n",
       "    </tr>\n",
       "    <tr>\n",
       "      <th>1</th>\n",
       "      <td>2008_000015</td>\n",
       "      <td>0.001563</td>\n",
       "      <td>0.000391</td>\n",
       "      <td>0.007422</td>\n",
       "      <td>0.003516</td>\n",
       "      <td>0.003906</td>\n",
       "      <td>0.005078</td>\n",
       "      <td>0.001953</td>\n",
       "      <td>0.002344</td>\n",
       "      <td>0.001953</td>\n",
       "      <td>...</td>\n",
       "      <td>0</td>\n",
       "      <td>0</td>\n",
       "      <td>0</td>\n",
       "      <td>0</td>\n",
       "      <td>0</td>\n",
       "      <td>0</td>\n",
       "      <td>0</td>\n",
       "      <td>0</td>\n",
       "      <td>0</td>\n",
       "      <td>0</td>\n",
       "    </tr>\n",
       "    <tr>\n",
       "      <th>2</th>\n",
       "      <td>2008_000019</td>\n",
       "      <td>0.000521</td>\n",
       "      <td>0.000000</td>\n",
       "      <td>0.000000</td>\n",
       "      <td>0.001042</td>\n",
       "      <td>0.001563</td>\n",
       "      <td>0.005729</td>\n",
       "      <td>0.000521</td>\n",
       "      <td>0.002083</td>\n",
       "      <td>0.003646</td>\n",
       "      <td>...</td>\n",
       "      <td>0</td>\n",
       "      <td>0</td>\n",
       "      <td>1</td>\n",
       "      <td>0</td>\n",
       "      <td>0</td>\n",
       "      <td>0</td>\n",
       "      <td>0</td>\n",
       "      <td>0</td>\n",
       "      <td>0</td>\n",
       "      <td>0</td>\n",
       "    </tr>\n",
       "    <tr>\n",
       "      <th>3</th>\n",
       "      <td>2008_000023</td>\n",
       "      <td>0.002976</td>\n",
       "      <td>0.002232</td>\n",
       "      <td>0.004464</td>\n",
       "      <td>0.000372</td>\n",
       "      <td>0.000372</td>\n",
       "      <td>0.002232</td>\n",
       "      <td>0.000000</td>\n",
       "      <td>0.003720</td>\n",
       "      <td>0.000000</td>\n",
       "      <td>...</td>\n",
       "      <td>0</td>\n",
       "      <td>0</td>\n",
       "      <td>0</td>\n",
       "      <td>0</td>\n",
       "      <td>0</td>\n",
       "      <td>1</td>\n",
       "      <td>0</td>\n",
       "      <td>0</td>\n",
       "      <td>0</td>\n",
       "      <td>1</td>\n",
       "    </tr>\n",
       "    <tr>\n",
       "      <th>4</th>\n",
       "      <td>2008_000028</td>\n",
       "      <td>0.001359</td>\n",
       "      <td>0.000340</td>\n",
       "      <td>0.001359</td>\n",
       "      <td>0.000340</td>\n",
       "      <td>0.001359</td>\n",
       "      <td>0.002038</td>\n",
       "      <td>0.002378</td>\n",
       "      <td>0.000000</td>\n",
       "      <td>0.003397</td>\n",
       "      <td>...</td>\n",
       "      <td>0</td>\n",
       "      <td>0</td>\n",
       "      <td>0</td>\n",
       "      <td>0</td>\n",
       "      <td>0</td>\n",
       "      <td>0</td>\n",
       "      <td>0</td>\n",
       "      <td>0</td>\n",
       "      <td>0</td>\n",
       "      <td>0</td>\n",
       "    </tr>\n",
       "    <tr>\n",
       "      <th>5</th>\n",
       "      <td>2008_000033</td>\n",
       "      <td>0.000000</td>\n",
       "      <td>0.006324</td>\n",
       "      <td>0.000372</td>\n",
       "      <td>0.000372</td>\n",
       "      <td>0.000372</td>\n",
       "      <td>0.000372</td>\n",
       "      <td>0.000744</td>\n",
       "      <td>0.008185</td>\n",
       "      <td>0.000372</td>\n",
       "      <td>...</td>\n",
       "      <td>0</td>\n",
       "      <td>0</td>\n",
       "      <td>0</td>\n",
       "      <td>0</td>\n",
       "      <td>0</td>\n",
       "      <td>0</td>\n",
       "      <td>0</td>\n",
       "      <td>0</td>\n",
       "      <td>0</td>\n",
       "      <td>0</td>\n",
       "    </tr>\n",
       "    <tr>\n",
       "      <th>6</th>\n",
       "      <td>2008_000036</td>\n",
       "      <td>0.000340</td>\n",
       "      <td>0.000000</td>\n",
       "      <td>0.004416</td>\n",
       "      <td>0.000340</td>\n",
       "      <td>0.000679</td>\n",
       "      <td>0.006114</td>\n",
       "      <td>0.001359</td>\n",
       "      <td>0.002717</td>\n",
       "      <td>0.003057</td>\n",
       "      <td>...</td>\n",
       "      <td>0</td>\n",
       "      <td>0</td>\n",
       "      <td>0</td>\n",
       "      <td>0</td>\n",
       "      <td>0</td>\n",
       "      <td>1</td>\n",
       "      <td>0</td>\n",
       "      <td>0</td>\n",
       "      <td>0</td>\n",
       "      <td>0</td>\n",
       "    </tr>\n",
       "    <tr>\n",
       "      <th>7</th>\n",
       "      <td>2008_000037</td>\n",
       "      <td>0.000837</td>\n",
       "      <td>0.002232</td>\n",
       "      <td>0.000279</td>\n",
       "      <td>0.000279</td>\n",
       "      <td>0.000837</td>\n",
       "      <td>0.000000</td>\n",
       "      <td>0.000279</td>\n",
       "      <td>0.006696</td>\n",
       "      <td>0.000000</td>\n",
       "      <td>...</td>\n",
       "      <td>0</td>\n",
       "      <td>0</td>\n",
       "      <td>0</td>\n",
       "      <td>0</td>\n",
       "      <td>0</td>\n",
       "      <td>0</td>\n",
       "      <td>0</td>\n",
       "      <td>0</td>\n",
       "      <td>0</td>\n",
       "      <td>0</td>\n",
       "    </tr>\n",
       "    <tr>\n",
       "      <th>8</th>\n",
       "      <td>2008_000041</td>\n",
       "      <td>0.002378</td>\n",
       "      <td>0.001359</td>\n",
       "      <td>0.004755</td>\n",
       "      <td>0.001019</td>\n",
       "      <td>0.003736</td>\n",
       "      <td>0.001359</td>\n",
       "      <td>0.001019</td>\n",
       "      <td>0.004076</td>\n",
       "      <td>0.003397</td>\n",
       "      <td>...</td>\n",
       "      <td>0</td>\n",
       "      <td>1</td>\n",
       "      <td>0</td>\n",
       "      <td>0</td>\n",
       "      <td>0</td>\n",
       "      <td>1</td>\n",
       "      <td>0</td>\n",
       "      <td>0</td>\n",
       "      <td>0</td>\n",
       "      <td>0</td>\n",
       "    </tr>\n",
       "    <tr>\n",
       "      <th>9</th>\n",
       "      <td>2008_000045</td>\n",
       "      <td>0.001019</td>\n",
       "      <td>0.000340</td>\n",
       "      <td>0.006454</td>\n",
       "      <td>0.001698</td>\n",
       "      <td>0.001359</td>\n",
       "      <td>0.003736</td>\n",
       "      <td>0.000000</td>\n",
       "      <td>0.004076</td>\n",
       "      <td>0.000000</td>\n",
       "      <td>...</td>\n",
       "      <td>0</td>\n",
       "      <td>0</td>\n",
       "      <td>0</td>\n",
       "      <td>0</td>\n",
       "      <td>0</td>\n",
       "      <td>0</td>\n",
       "      <td>0</td>\n",
       "      <td>0</td>\n",
       "      <td>0</td>\n",
       "      <td>0</td>\n",
       "    </tr>\n",
       "  </tbody>\n",
       "</table>\n",
       "<p>10 rows × 520 columns</p>\n",
       "</div>"
      ],
      "text/plain": [
       "         imgId      dim1      dim2      dim3      dim4      dim5      dim6  \\\n",
       "0  2008_000008  0.002232  0.000558  0.002790  0.000837  0.001674  0.001953   \n",
       "1  2008_000015  0.001563  0.000391  0.007422  0.003516  0.003906  0.005078   \n",
       "2  2008_000019  0.000521  0.000000  0.000000  0.001042  0.001563  0.005729   \n",
       "3  2008_000023  0.002976  0.002232  0.004464  0.000372  0.000372  0.002232   \n",
       "4  2008_000028  0.001359  0.000340  0.001359  0.000340  0.001359  0.002038   \n",
       "5  2008_000033  0.000000  0.006324  0.000372  0.000372  0.000372  0.000372   \n",
       "6  2008_000036  0.000340  0.000000  0.004416  0.000340  0.000679  0.006114   \n",
       "7  2008_000037  0.000837  0.002232  0.000279  0.000279  0.000837  0.000000   \n",
       "8  2008_000041  0.002378  0.001359  0.004755  0.001019  0.003736  0.001359   \n",
       "9  2008_000045  0.001019  0.000340  0.006454  0.001698  0.001359  0.003736   \n",
       "\n",
       "       dim7      dim8      dim9      ...       is_cow  is_diningtable  is_dog  \\\n",
       "0  0.001395  0.002232  0.003627      ...            0               0       0   \n",
       "1  0.001953  0.002344  0.001953      ...            0               0       0   \n",
       "2  0.000521  0.002083  0.003646      ...            0               0       1   \n",
       "3  0.000000  0.003720  0.000000      ...            0               0       0   \n",
       "4  0.002378  0.000000  0.003397      ...            0               0       0   \n",
       "5  0.000744  0.008185  0.000372      ...            0               0       0   \n",
       "6  0.001359  0.002717  0.003057      ...            0               0       0   \n",
       "7  0.000279  0.006696  0.000000      ...            0               0       0   \n",
       "8  0.001019  0.004076  0.003397      ...            0               1       0   \n",
       "9  0.000000  0.004076  0.000000      ...            0               0       0   \n",
       "\n",
       "   is_horse  is_motorbike  is_person  is_pottedplant  is_sheep  is_sofa  \\\n",
       "0         1             0          1               0         0        0   \n",
       "1         0             0          0               0         0        0   \n",
       "2         0             0          0               0         0        0   \n",
       "3         0             0          1               0         0        0   \n",
       "4         0             0          0               0         0        0   \n",
       "5         0             0          0               0         0        0   \n",
       "6         0             0          1               0         0        0   \n",
       "7         0             0          0               0         0        0   \n",
       "8         0             0          1               0         0        0   \n",
       "9         0             0          0               0         0        0   \n",
       "\n",
       "   is_tvmonitor  \n",
       "0             0  \n",
       "1             0  \n",
       "2             0  \n",
       "3             1  \n",
       "4             0  \n",
       "5             0  \n",
       "6             0  \n",
       "7             0  \n",
       "8             0  \n",
       "9             0  \n",
       "\n",
       "[10 rows x 520 columns]"
      ]
     },
     "execution_count": 66,
     "metadata": {},
     "output_type": "execute_result"
    }
   ],
   "source": [
    "# Display first 10 training instances\n",
    "train_A.head(10)"
   ]
  },
  {
   "cell_type": "markdown",
   "metadata": {},
   "source": [
    "### ========== Question 1.3 ==========\n",
    "In this part we want to select the appopriate attributes (i.e. input features) for training our classifiers. These should be the attributes `dim1, dim2, ..., dim500`. Create a list which has as elements the **names** of the attributes of interest. "
   ]
  },
  {
   "cell_type": "code",
   "execution_count": 67,
   "metadata": {
    "collapsed": false
   },
   "outputs": [],
   "source": [
    "# Retrieve names of attributes of interest\n",
    "attributes = train_A.columns[1:501].tolist()"
   ]
  },
  {
   "cell_type": "markdown",
   "metadata": {},
   "source": [
    "### ========== Question 1.4 --- [1 mark] ==========\n",
    "By using the list from Question 1.3 now create 4 numpy arrays `X_tr`, `X_val`, `y_tr` and `y_val` and store the training features, validation features, training targets, and validation targets, respectively. Your target vectors should correspond to the `is_person` attribute of the training and validation sets (also make sure you do not include this attribute in your training features). Display the dimensionalities (i.e shapes) of the 4 arrays and make sure your input data are 500-dimensional."
   ]
  },
  {
   "cell_type": "code",
   "execution_count": 68,
   "metadata": {
    "collapsed": false
   },
   "outputs": [
    {
     "name": "stdout",
     "output_type": "stream",
     "text": [
      "(2093, 500)\n",
      "(1113, 500)\n",
      "(2093L,)\n",
      "(1113L,)\n"
     ]
    }
   ],
   "source": [
    "# Retrieve features and targets\n",
    "X_tr = train_A[attributes]\n",
    "X_val = valid_A[attributes]\n",
    "y_tr = train_A['is_person']\n",
    "y_val = valid_A['is_person']\n",
    "# Display dimensions\n",
    "print(X_tr.shape)\n",
    "print(X_val.shape)\n",
    "print(y_tr.shape)\n",
    "print(y_val.shape)"
   ]
  },
  {
   "cell_type": "markdown",
   "metadata": {},
   "source": [
    "### ========== Question 1.5 ==========\n",
    "Show two [countplots](https://seaborn.github.io/generated/seaborn.countplot.html?highlight=countplot#seaborn.countplot) of the targets in a single plot, one for the training and one for the validation set. Label axes appropriately and add a title to your plot. Use descriptive `xticklabels` instead of the default numeric ones."
   ]
  },
  {
   "cell_type": "code",
   "execution_count": 69,
   "metadata": {
    "collapsed": false
   },
   "outputs": [
    {
     "data": {
      "image/png": "[encoded data removed]",
      "text/plain": [
       "<matplotlib.figure.Figure at 0x140e3b70>"
      ]
     },
     "metadata": {},
     "output_type": "display_data"
    }
   ],
   "source": [
    "# Plot distribution of targets for training and validation sets\n",
    "fig, (ax1, ax2) = plt.subplots(1,2, figsize=(8,4))\n",
    "sns.countplot(y_tr, ax=ax1)\n",
    "ax1.set_title('Training set', size=12)\n",
    "ax1.set_xlabel(' ')\n",
    "ax1.set_xticklabels(['doesn\\'t have person','has person'])\n",
    "sns.countplot(y_val, ax=ax2)\n",
    "ax2.set_title('Validation set', size=12)\n",
    "ax2.set_xlabel(' ')\n",
    "ax2.set_ylabel('')\n",
    "ax2.set_xticklabels(['doesn\\'t have person','has person'])\n",
    "fig.suptitle('Target distribution', size=12)\n",
    "plt.show()"
   ]
  },
  {
   "cell_type": "markdown",
   "metadata": {},
   "source": [
    "### ========== Question 1.6 ==========\n",
    "What would be a good choice for a baseline classifier to compare your results in the next steps against? What classification accuracy score does the baseline classifier achieve in the validation set?"
   ]
  },
  {
   "cell_type": "markdown",
   "metadata": {},
   "source": [
    "*My answer:*\n",
    "\n",
    "A good baseline classifier would estimate every input to belong to the most common target in the training set, i.e. every image would be considered to not have a person."
   ]
  },
  {
   "cell_type": "code",
   "execution_count": 70,
   "metadata": {
    "collapsed": false
   },
   "outputs": [
    {
     "name": "stdout",
     "output_type": "stream",
     "text": [
      "Accuracy: 586 / 1113 = 0.526504941599\n"
     ]
    }
   ],
   "source": [
    "# Calculate and print accuracy of baseline classifier\n",
    "X_val_is_person_not_true = X_val[valid_A['is_person'] == False]\n",
    "print(\"Accuracy: {0} / {1} = {2}\".format(len(X_val_is_person_not_true), len(X_val), float(len(X_val_is_person_not_true))/len(X_val)))"
   ]
  },
  {
   "cell_type": "markdown",
   "metadata": {},
   "source": [
    "### ========== Question 1.7 ==========\n",
    "Train a [`LogisticRegression`](http://scikit-learn.org/0.17/modules/generated/sklearn.linear_model.LogisticRegression.html) classifier by using default settings, except for the `solver` parameter which you should set to `lbfgs`. Report the classification accuracy score in the training and validation sets and compare to that of the baseline classifier. Comment in 1-2 sentences the results. You may include any additional plot(s) if you wish to justify your explanation."
   ]
  },
  {
   "cell_type": "code",
   "execution_count": 71,
   "metadata": {
    "collapsed": false
   },
   "outputs": [
    {
     "name": "stdout",
     "output_type": "stream",
     "text": [
      "Classification accuracy on training set: 0.55088389871\n",
      "Classification accuracy on validation set: 0.526504941599\n"
     ]
    }
   ],
   "source": [
    "# Initialise logistic regressor\n",
    "lr = LogisticRegression(solver='lbfgs')\n",
    "# Fit and score classifier on training and validation sets\n",
    "lr.fit(X_tr, y_tr)\n",
    "print('Classification accuracy on training set: {0}'.format(lr.score(X_tr, y_tr)))\n",
    "print('Classification accuracy on validation set: {0}'.format(lr.score(X_val, y_val)))"
   ]
  },
  {
   "cell_type": "markdown",
   "metadata": {},
   "source": [
    "*Your answer goes here*\n",
    "\n",
    " "
   ]
  },
  {
   "cell_type": "markdown",
   "metadata": {},
   "source": [
    "### ========== Question 1.8 ==========\n",
    "Display the means and standard deviations of the first 5 features in the training set. *Hint: you want to compute the means and standard deviations across the columns of your arrays. Make sure you make appropriate use of the `axis` parameter.*"
   ]
  },
  {
   "cell_type": "code",
   "execution_count": 72,
   "metadata": {
    "collapsed": false
   },
   "outputs": [
    {
     "name": "stdout",
     "output_type": "stream",
     "text": [
      "Means: [ 0.002  0.001  0.004  0.002  0.002]\n",
      "Standard deviations: [ 0.001  0.001  0.004  0.001  0.002]\n"
     ]
    }
   ],
   "source": [
    "# Display means and standard deviations of first 5 features in training set\n",
    "np.set_printoptions(precision=3)\n",
    "print(\"Means: {0}\".format(np.array(X_tr.mean(0)[0:5])))\n",
    "print(\"Standard deviations: {0}\".format(np.array(X_tr.std(0)[0:5])))"
   ]
  },
  {
   "cell_type": "markdown",
   "metadata": {},
   "source": [
    "### ========== Question 1.9 ==========\n",
    "Feature standardisation is a pre-processing technique used to transform data so that they have zero mean and unit standard deviation. For many algorithms, this is a very important step for training models (both regression and classification). Read about [feature standardisation](http://scikit-learn.org/0.17/modules/preprocessing.html) and make sure you understand what kind of transformation this method applies to the data.\n",
    "\n",
    "`Scikit-learn` offers an [implementation](http://scikit-learn.org/0.17/modules/generated/sklearn.preprocessing.StandardScaler.html) of feature standardisation. Create a standardiser and fit it by using training features only. Then transform both your input and validation input features. \n",
    "\n",
    "Once your training and validation input data have been transformed, display the means and standard deviations of the first 5 attributes for **both** the training and validation sets. Are the results as you expected? Explain your answer in 2-3 sentences. \n",
    "\n",
    "**IMPORTANT: You should use the transformed data for the rest of part A**."
   ]
  },
  {
   "cell_type": "code",
   "execution_count": 73,
   "metadata": {
    "collapsed": false
   },
   "outputs": [
    {
     "name": "stdout",
     "output_type": "stream",
     "text": [
      "Means training: [-0. -0.  0.  0. -0.]\n",
      "Standard deviations training: [ 1.  1.  1.  1.  1.]\n",
      "Means training: [-0. -0.  0.  0. -0.]\n",
      "Standard deviations training: [ 1.  1.  1.  1.  1.]\n"
     ]
    }
   ],
   "source": [
    "# Standardise training and validation features\n",
    "stand_scaler = StandardScaler()\n",
    "stand_scaler.fit(X_tr)\n",
    "X_tr_transf = stand_scaler.transform(X_tr)\n",
    "X_val_transf = stand_scaler.transform(X_val)\n",
    "# Show means and standard deviations\n",
    "np.set_printoptions(suppress=True)\n",
    "print(\"Means training: {0}\".format(np.array(X_tr_transf.mean(0)[0:5])))\n",
    "print(\"Standard deviations training: {0}\".format(np.array(X_tr_transf.std(0)[0:5])))\n",
    "print(\"Means training: {0}\".format(np.array(X_tr_transf.mean(0)[0:5])))\n",
    "print(\"Standard deviations training: {0}\".format(np.array(X_tr_transf.std(0)[0:5])))"
   ]
  },
  {
   "cell_type": "markdown",
   "metadata": {},
   "source": [
    "*Your answer goes here*\n"
   ]
  },
  {
   "cell_type": "markdown",
   "metadata": {},
   "source": [
    "### ========== Question 1.10 ==========\n",
    "By using the transformed input data, retrain a `LogisticRegression` classifier. Again, set the `solver` parameter to `lbfgs` and use default settings for the other parameters. Report the classification accuracy in both the training and validation sets. How does your model compare to the baseline classifier from Question 1.6? You may use additional plot(s) to support your explanation."
   ]
  },
  {
   "cell_type": "code",
   "execution_count": 74,
   "metadata": {
    "collapsed": false
   },
   "outputs": [
    {
     "name": "stdout",
     "output_type": "stream",
     "text": [
      "Classification accuracy on training set: 0.810797897754\n",
      "Classification accuracy on validation set: 0.643306379155\n"
     ]
    }
   ],
   "source": [
    "# Initialise logistic regressor\n",
    "lr_2 = LogisticRegression(solver='lbfgs')\n",
    "# Fit and score classifier on transformed training and validation sets\n",
    "lr_2.fit(X_tr_transf, y_tr)\n",
    "print('Classification accuracy on training set: {0}'.format(lr_2.score(X_tr_transf, y_tr)))\n",
    "print('Classification accuracy on validation set: {0}'.format(lr_2.score(X_val_transf, y_val)))"
   ]
  },
  {
   "cell_type": "markdown",
   "metadata": {},
   "source": [
    "*Your answer goes here*\n",
    "\n"
   ]
  },
  {
   "cell_type": "markdown",
   "metadata": {},
   "source": [
    "### ========== Question 1.11 ==========\n",
    "So far we have used default settings for training the logistic regression classifier. Now, we want to use [K-fold cross-validation](http://scikit-learn.org/0.17/modules/generated/sklearn.cross_validation.KFold.html) to optimise the regularisation parameter `C`. The regularisation parameter controls the degree to which we wish to penalise large magnitudes for the weight vector. Thus, it helps us prevent overfitting and, for logistic regression, it additionally controls the level of confidence in making predictions.\n",
    "\n",
    "We would like to optimise this parameter **by using the transformed training dataset only** and not the validation set. Create a 3-fold cross-validation object for the training dataset. Set the `shuffle` parameter to `True` and the `random_state` to `0`. By using the cross-validation iterator, display the number of test samples in each iteration fold."
   ]
  },
  {
   "cell_type": "code",
   "execution_count": 75,
   "metadata": {
    "collapsed": false
   },
   "outputs": [
    {
     "name": "stdout",
     "output_type": "stream",
     "text": [
      "Number of test samples in fold 1: 698\n",
      "Number of test samples in fold 2: 698\n",
      "Number of test samples in fold 3: 697\n"
     ]
    },
    {
     "data": {
      "text/plain": [
       "2093"
      ]
     },
     "execution_count": 75,
     "metadata": {},
     "output_type": "execute_result"
    }
   ],
   "source": [
    "# Construct 3-fold cross-validation iterator\n",
    "kf3 = KFold(len(X_tr_transf), n_folds=3, shuffle=True, random_state=0)\n",
    "# Display number of test samples in each interation fold\n",
    "f = 1\n",
    "for train_indeces, test_indeces in kf3:\n",
    "    print('Number of test samples in fold {0}: {1}'.format(f, len(test_indeces)))\n",
    "    f+= 1\n",
    "len(X_tr_transf)"
   ]
  },
  {
   "cell_type": "markdown",
   "metadata": {},
   "source": [
    "### ========== Question 1.12 ========== \n",
    "Now we want to test out different settings for the regularisation parameter `C` by using the cross-validation iterator from the previous question. For each iteration, we want to train multiple classifiers by using a range of values for `C` and then compute the performance within each CV fold. You should use a log-range for `C` from `1e-5` to `1e5` by using 20 equally-spaced values *(hint: look at the `logspace()` function in numpy)*. \n",
    "\n",
    "Create a 2-dimensional array and, for each cross-validation fold and parameter setting pair, compute and store the classification accuracy score e.g. store the score of fold 0 with parameter setting 1 at score_array[0,1]. As previously, set the `solver` parameter to `lbfgs` and use default settings for the other parameters.\n",
    "\n",
    "*(hint: your may want to use two loops in your code; one iterating over CV folds and another one iterating over the values for `C`)*. "
   ]
  },
  {
   "cell_type": "code",
   "execution_count": 76,
   "metadata": {
    "collapsed": false
   },
   "outputs": [],
   "source": [
    "# Your code goes here\n",
    "scores = np.zeros((3,20))\n",
    "logs = np.logspace(-5,5,20)\n",
    "f = 0\n",
    "for train_indeces, test_indeces in kf3:\n",
    "    log_set = 0\n",
    "    for log in logs:\n",
    "        lr_temp = LogisticRegression(solver='lbfgs', C=log)\n",
    "        lr_temp.fit(X_tr_transf[train_indeces], y_tr[train_indeces])\n",
    "        pred = lr_temp.predict(X_tr_transf[test_indeces])\n",
    "        scores[f][log_set] = accuracy_score(y_tr[test_indeces], pred)\n",
    "        log_set += 1\n",
    "    f+= 1"
   ]
  },
  {
   "cell_type": "markdown",
   "metadata": {},
   "source": [
    "### ========== Question 1.13 ========== \n",
    "Plot the mean classification performance (across CV folds) of the logistic regression classifier against the regularisation parameter `C` by using the range from Question 1.12. Use a logarithmic scale for the x-axis and label both axes appropriately. "
   ]
  },
  {
   "cell_type": "code",
   "execution_count": 77,
   "metadata": {
    "collapsed": false
   },
   "outputs": [
    {
     "data": {
      "image/png": "[encoded data removed]",
      "text/plain": [
       "<matplotlib.figure.Figure at 0x11099588>"
      ]
     },
     "metadata": {},
     "output_type": "display_data"
    }
   ],
   "source": [
    "# Get mean scores\n",
    "mean_scores = np.zeros(len(scores[0]))\n",
    "for i in range(0, len(scores[0])):\n",
    "    sum = 0.0\n",
    "    count = 0\n",
    "    for fold_scores in scores:\n",
    "        sum += fold_scores[i]\n",
    "        count += 1\n",
    "    mean_scores[i] = sum/count\n",
    "# Plot accuracy over different C values\n",
    "plt.plot(logs, mean_scores)\n",
    "plt.xscale('log')\n",
    "plt.xlim(10**(-5), 10**5)\n",
    "plt.xlabel('regularisation parameter (C)')\n",
    "plt.ylabel('mean classification performance')\n",
    "plt.title('Logistic Regression Accuracy', fontsize=15)\n",
    "plt.show()"
   ]
  },
  {
   "cell_type": "markdown",
   "metadata": {},
   "source": [
    "### ========== Question 1.14 ==========\n",
    "Find and display the optimal value for the regularisation parameter `C` of the logistic classifier by using your results from Question 1.12. Similarly to Question 1.13, consider the mean classifiation accuracy across CV folds. By using the optimal value (i.e. the one that yields the highest average classification accuracy) train a new `LogisticRegression` classifier and report the classification accuracy on the validation set. *(Hint: Do not pick the optimal value \"by hand\", instead use an appropriate numpy function).*"
   ]
  },
  {
   "cell_type": "code",
   "execution_count": 78,
   "metadata": {
    "collapsed": false
   },
   "outputs": [
    {
     "name": "stdout",
     "output_type": "stream",
     "text": [
      "Optimal parameter of C: 0.00428133239872\n",
      "Classification accuracy on training set using optimal C: 0.779741997133\n",
      "Classification accuracy on validation set using optimal C: 0.696316262354\n"
     ]
    }
   ],
   "source": [
    "# Get optimal C\n",
    "optimal_C = logs[np.argmax(mean_scores)]\n",
    "print(\"Optimal parameter of C: {0}\".format(optimal_C))\n",
    "# Get accuracy with optimal parameter\n",
    "lr_3 = LogisticRegression(solver='lbfgs', C=optimal_C)\n",
    "lr_3.fit(X_tr_transf, y_tr)\n",
    "print('Classification accuracy on training set using optimal C: {0}'.format(lr_3.score(X_tr_transf, y_tr)))\n",
    "print('Classification accuracy on validation set using optimal C: {0}'.format(lr_3.score(X_val_transf, y_val)))"
   ]
  },
  {
   "cell_type": "markdown",
   "metadata": {},
   "source": [
    "### ========== Question 1.15 ========== \n",
    "Scikit-learn offers a [`LogisticRegressionCV`](http://scikit-learn.org/0.17/modules/generated/sklearn.linear_model.LogisticRegressionCV.html) module which implements Logistic Regression with builtin cross-validation to find out the optimal `C` parameter. You can specify the range for the `C` parameter, as well as the cross-validation method you want to use with the `Cs` and `cv` parameters, respectively. Use the `C` range you set up in Question 1.12 and the 3-fold cross-validation iterator from Question 1.11. Once again, train the models by using the `lbfgs` optimisation method and display the optimal value for the parameter `C`. Finally, display the classification accuracy on the validation set. Can you verify that your results are consistent with those from Question 1.14?"
   ]
  },
  {
   "cell_type": "code",
   "execution_count": 79,
   "metadata": {
    "collapsed": false
   },
   "outputs": [
    {
     "name": "stdout",
     "output_type": "stream",
     "text": [
      "Optimal parameter of C: 0.00428133239872\n",
      "Classification accuracy on validation set using optimal C: 0.696316262354\n"
     ]
    }
   ],
   "source": [
    "# Your code goes here\n",
    "lr_4 = LogisticRegressionCV(solver='lbfgs', Cs=logs, cv=kf3)\n",
    "lr_4.fit(X_tr_transf, y_tr)\n",
    "print('Optimal parameter of C: {0}'.format(lr_4.C_[0]))\n",
    "print('Classification accuracy on validation set using optimal C: {0}'.format(lr_4.score(X_val_transf, y_val)))"
   ]
  },
  {
   "cell_type": "markdown",
   "metadata": {},
   "source": [
    "### ========== Question 1.16 ==========\n",
    "Now, we want to validate the importance of various features for classification. For this purpose, we will use a [`RandomForestClassifier`](http://scikit-learn.org/0.17/modules/generated/sklearn.ensemble.RandomForestClassifier.html) (you might want to refer to Lab_3 if you are unsure how we can estimate feature importances with decision tree and random forest models).\n",
    "\n",
    "Initialise a random forest classifier and fit the model by using training data only and 500 trees (i.e. `n_estimators`). Set the `RandomState` equal to 31 to ensure reproducible results. Report the accuracy score on both the training and validation sets."
   ]
  },
  {
   "cell_type": "code",
   "execution_count": 80,
   "metadata": {
    "collapsed": false
   },
   "outputs": [
    {
     "name": "stdout",
     "output_type": "stream",
     "text": [
      "Classification accuracy on training set: 1.0\n",
      "Classification accuracy on validation set: 0.698113207547\n"
     ]
    }
   ],
   "source": [
    "rf = RandomForestClassifier(criterion='entropy', n_estimators=500, random_state=31)\n",
    "rf.fit(X_tr_transf, y_tr)\n",
    "print('Classification accuracy on training set: {0}'.format(rf.score(X_tr_transf, y_tr)))\n",
    "print('Classification accuracy on validation set: {0}'.format(rf.score(X_val_transf, y_val)))"
   ]
  },
  {
   "cell_type": "markdown",
   "metadata": {},
   "source": [
    "### ========== Question 1.17 ==========\n",
    "Comment on the results above. Do you find the discrepancy between training and validation accuracies surprising?"
   ]
  },
  {
   "cell_type": "markdown",
   "metadata": {},
   "source": [
    "*My answer:*\n",
    "\n",
    "The discrepancy is to be expected. Since we are not pruning the tree (setting the max_depth parameter), the nodes will keep expanding until all leaves are pure. This results in a 100% accuracy for the training data, but a significantly lower accuracy on the validation data. In other words, the tree is overfitting to the training data."
   ]
  },
  {
   "cell_type": "markdown",
   "metadata": {},
   "source": [
    "### ========== Question 1.18 ==========\n",
    "By using the random forest model from the previous question order the features by descending importance and display the names of the 50 most important features."
   ]
  },
  {
   "cell_type": "code",
   "execution_count": 81,
   "metadata": {
    "collapsed": false
   },
   "outputs": [
    {
     "name": "stdout",
     "output_type": "stream",
     "text": [
      "['dim63', 'dim21', 'dim479', 'dim51', 'dim360', 'dim283', 'dim76', 'dim4', 'dim461', 'dim274', 'dim330', 'dim263', 'dim343', 'dim348', 'dim217', 'dim222', 'dim347', 'dim74', 'dim356', 'dim398', 'dim423', 'dim500', 'dim73', 'dim485', 'dim214', 'dim326', 'dim254', 'dim483', 'dim92', 'dim25', 'dim322', 'dim329', 'dim427', 'dim17', 'dim288', 'dim90', 'dim440', 'dim48', 'dim206', 'dim171', 'dim154', 'dim134', 'dim54', 'dim96', 'dim315', 'dim85', 'dim312', 'dim15', 'dim35', 'dim188']\n"
     ]
    }
   ],
   "source": [
    "# Retrieve features + their importance\n",
    "features = pd.DataFrame(columns = ['Feature', 'Importance'], data = np.array([attributes, rf.feature_importances_]).T)\n",
    "# Sort features according to importance\n",
    "features.sort_values(by='Importance', ascending=False, inplace=True)\n",
    "# Show top 50 most important features\n",
    "print(features.head(50)['Feature'].tolist())"
   ]
  },
  {
   "cell_type": "markdown",
   "metadata": {},
   "source": [
    "### ========== Question 1.19 ==========\n",
    "Next, we would like to test out the performance of support vector classification and experiment with different kernels. \n",
    "By using training data only and default parameter settings, train three support vector classifiers with the following kernels: linear, radial basis function, and polynomial. Report the classification accuracy of each of the three classifiers on both the training and validation sets."
   ]
  },
  {
   "cell_type": "code",
   "execution_count": 82,
   "metadata": {
    "collapsed": false
   },
   "outputs": [
    {
     "name": "stdout",
     "output_type": "stream",
     "text": [
      "Classification accuracy using linear kernel on training set: 0.842331581462\n",
      "Classification accuracy using linear kernel on validation set: 0.638814016173\n",
      "\n",
      "Classification accuracy using rbf kernel on training set: 0.910654562828\n",
      "Classification accuracy using rbf kernel on validation set: 0.729559748428\n",
      "\n",
      "Classification accuracy using polynomial kernel on training set: 0.990922121357\n",
      "Classification accuracy using polynomial kernel on validation set: 0.701707097934\n"
     ]
    }
   ],
   "source": [
    "# Kernel='linear'\n",
    "svc_lin = SVC(kernel='linear')\n",
    "svc_lin.fit(X_tr_transf, y_tr)\n",
    "print('Classification accuracy using {0} kernel on training set: {1}'.format('linear', svc_lin.score(X_tr_transf, y_tr)))\n",
    "print('Classification accuracy using {0} kernel on validation set: {1}'.format('linear', svc_lin.score(X_val_transf, y_val)))\n",
    "print() # new line\n",
    "\n",
    "# Kernel='radial basis function'\n",
    "svc_rbf = SVC(kernel='rbf')\n",
    "svc_rbf.fit(X_tr_transf, y_tr)\n",
    "print('Classification accuracy using {0} kernel on training set: {1}'.format('rbf', svc_rbf.score(X_tr_transf, y_tr)))\n",
    "print('Classification accuracy using {0} kernel on validation set: {1}'.format('rbf', svc_rbf.score(X_val_transf, y_val)))\n",
    "print()\n",
    "\n",
    "# Kernel='polynomial'\n",
    "svc_poly = SVC(kernel='poly')\n",
    "svc_poly.fit(X_tr_transf, y_tr)\n",
    "print('Classification accuracy using {0} kernel on training set: {1}'.format('polynomial', svc_poly.score(X_tr_transf, y_tr)))\n",
    "print('Classification accuracy using {0} kernel on validation set: {1}'.format('polynomial', svc_poly.score(X_val_transf, y_val)))"
   ]
  },
  {
   "cell_type": "markdown",
   "metadata": {},
   "source": [
    "### ========== Question 1.20 ==========\n",
    "At this point, we would like to get an idea of what kind of decision boundaries we can get with the three types of SVM kernels we introduced in the previous question. For visualisation, however, we can only make use of 2D input data. For this purpose, we select to use the 21st and 76th columns of our training features (*hint: remember that Python uses 0-based indexing*). \n",
    "\n",
    "Execute the cell below to define a useful function which we will be using to plot the decision boundaries *(it is also not a bad idea to try to understand what this functions does)*. \n",
    "\n",
    "Then train three distinct SVM classifiers by using the 2D input data mentioned above and default parameters:\n",
    "* a linear SVC\n",
    "* an RBF SVC \n",
    "* a polynomial SVC\n",
    "\n",
    "Finally, create a list containing the three classifiers you have just trained. Use this list as an input to the provided function along with the used training features and observe the outcome. You can use the additional `title` parameter to set the titles in the subplots. Comment on the results by using 1-2 sentences.\n",
    "\n",
    "*(Acknowledgement: this Question has been heavily based on [this example](http://scikit-learn.org/0.17/auto_examples/svm/plot_iris.html) from scikit-learn's documentation.)*"
   ]
  },
  {
   "cell_type": "code",
   "execution_count": 83,
   "metadata": {
    "collapsed": true
   },
   "outputs": [],
   "source": [
    "def show_svc_decision_boundaries(clfs, X, title=None):\n",
    "    \"\"\"Plots decision boundaries for classifiers with 2D inputs.\n",
    "    \n",
    "    Parameters\n",
    "    ----------\n",
    "    clf : list\n",
    "        Classifiers for which decision boundaries will be displayed.\n",
    "    X : array\n",
    "        Input features used to train the classifiers.\n",
    "    title : list, optional\n",
    "        Titles for classifiers.\n",
    "    \n",
    "    \"\"\"\n",
    "    \n",
    "    assert X.shape[1] == 2 # Input should be 2D\n",
    "    if title is not None:\n",
    "        assert len(clfs) == len(title)\n",
    "    \n",
    "    h = .04 # step size in the mesh\n",
    "    x_min, x_max = X[:, 0].min() - 1, X[:, 0].max() + 1\n",
    "    y_min, y_max = X[:, 1].min() - 1, X[:, 1].max() + 1\n",
    "    xx, yy = np.meshgrid(np.arange(x_min, x_max, h),\n",
    "                         np.arange(y_min, y_max, h))\n",
    "    plt.figure(figsize=(15,5))\n",
    "    for i, clf in enumerate(clfs):\n",
    "        plt.subplot(1, len(clfs), i + 1)\n",
    "        plt.subplots_adjust(wspace=0.4, hspace=0.4)\n",
    "        Z = clf.predict(np.c_[xx.ravel(), yy.ravel()])\n",
    "        Z = Z.reshape(xx.shape)\n",
    "        plt.contourf(xx, yy, Z, cmap=plt.cm.Paired, alpha=0.8)\n",
    "        # Training points\n",
    "        plt.scatter(X[:, 0], X[:, 1], c=y_tr, cmap=plt.cm.Paired)\n",
    "        plt.xlabel('Feature 1')\n",
    "        plt.ylabel('Feature 2')\n",
    "        plt.xlim(xx.min(), xx.max())\n",
    "        plt.ylim(yy.min(), yy.max())\n",
    "        plt.xticks(())\n",
    "        plt.yticks(())\n",
    "        if title is not None:\n",
    "            plt.title(title[i])"
   ]
  },
  {
   "cell_type": "code",
   "execution_count": 84,
   "metadata": {
    "collapsed": false
   },
   "outputs": [
    {
     "data": {
      "image/png": "[encoded data removed]",
      "text/plain": [
       "<matplotlib.figure.Figure at 0x15ac3cc0>"
      ]
     },
     "metadata": {},
     "output_type": "display_data"
    }
   ],
   "source": [
    "# Train SVC classifiers with columns 21 and 76\n",
    "X_tr_transf_20_75 = X_tr_transf[:,[20,75]]\n",
    "svc_lin_2 = SVC(kernel='linear').fit(X_tr_transf_20_75, y_tr)\n",
    "svc_rbf_2 = SVC(kernel='rbf').fit(X_tr_transf_20_75, y_tr)\n",
    "svc_poly_2 = SVC(kernel='poly').fit(X_tr_transf_20_75, y_tr)\n",
    "# Plot decision boundaires\n",
    "svc_classifiers = [svc_lin_2, svc_rbf_2, svc_poly_2]\n",
    "show_svc_decision_boundaries(svc_classifiers, X_tr_transf_20_75, title=['Linear', 'RBF', 'Polynomial'])"
   ]
  },
  {
   "cell_type": "markdown",
   "metadata": {},
   "source": [
    "*My answer:*\n",
    "\n",
    "The above decision boundaries reflect the methods used to separate the data points. The linear kernel separates data using a straight line as boundary; the RBF kernel separates data as a function of the distance to a particular point; and the polynomial kernel uses a poly-feature space to decide on the boundary."
   ]
  },
  {
   "cell_type": "markdown",
   "metadata": {},
   "source": [
    "### ========== Question 1.21 ==========\n",
    "So far we have used default parameters for training the SVM classifiers. Now we want to tune the parameters by using cross-validation. \n",
    "\n",
    "By using the `K-fold` iterator from Question 1.11 and training data only, estimate the classification accuracy of an SVM classifier with RBF kernel, while you vary the penalty parameter `C` in a logarithmic range `np.logspace(-2, 3, 10)`. Set the kernel coefficient parameter `gamma` to `auto` for this question. \n",
    "\n",
    "Plot the mean cross-validated classification accuracy against the regularisation parameter `C` by using a log-scale for the x-axis. Display the highest obtained mean accuracy score and the value of `C` which yielded it. Label axes appropriately. \n",
    "\n",
    "Finally, train a classifier by using the optimal value for this parameter (without using cross-validation at this stage) and report the classification accuracy on the training and validation sets. "
   ]
  },
  {
   "cell_type": "code",
   "execution_count": 85,
   "metadata": {
    "collapsed": false
   },
   "outputs": [
    {
     "data": {
      "image/png": "[encoded data removed]",
      "text/plain": [
       "<matplotlib.figure.Figure at 0x140df978>"
      ]
     },
     "metadata": {},
     "output_type": "display_data"
    },
    {
     "name": "stdout",
     "output_type": "stream",
     "text": [
      "Optimal parameter of C: 1.6681005372\n",
      "Classification accuracy on training set using optimal C: 0.974677496417\n",
      "Classification accuracy on validation set using optimal C: 0.727762803235\n"
     ]
    }
   ],
   "source": [
    "# Estimate accuracy over log space in C\n",
    "scores_2 = np.zeros((3,10))\n",
    "logs_2 = np.logspace(-2, 3, 10)\n",
    "f = 0\n",
    "for train_indeces, test_indeces in kf3:\n",
    "    log_set = 0\n",
    "    for log in logs_2:\n",
    "        svc_temp = SVC(kernel='rbf', gamma='auto', C=log)\n",
    "        svc_temp.fit(X_tr_transf[train_indeces], y_tr[train_indeces])\n",
    "        pred = svc_temp.predict(X_tr_transf[test_indeces])\n",
    "        scores_2[f][log_set] = accuracy_score(y_tr[test_indeces], pred)\n",
    "        log_set += 1\n",
    "    f+= 1\n",
    "\n",
    "# Get mean scores\n",
    "mean_scores_2 = np.zeros(len(scores_2[0]))\n",
    "for i in range(0, len(scores_2[0])):\n",
    "    sum = 0.0\n",
    "    count = 0\n",
    "    for fold_scores in scores_2:\n",
    "        sum += fold_scores[i]\n",
    "        count += 1\n",
    "    mean_scores_2[i] = sum/count\n",
    "\n",
    "# Plot accuracy over different C values\n",
    "plt.plot(logs_2, mean_scores_2)\n",
    "plt.xscale('log')\n",
    "plt.xlim(10**(-2), 10**3)\n",
    "plt.xlabel('regularisation parameter (C)')\n",
    "plt.ylabel('mean classification performance')\n",
    "plt.title('SVC with RBF Kernel - Accuracy', fontsize=15)\n",
    "plt.show()\n",
    "\n",
    "# Get optimal C\n",
    "optimal_C_2 = logs_2[np.argmax(mean_scores_2)]\n",
    "print(\"Optimal parameter of C: {0}\".format(optimal_C_2))\n",
    "# Get accuracy with optimal parameter\n",
    "svc_rbf_3 = SVC(kernel='rbf', gamma='auto', C=optimal_C_2)\n",
    "svc_rbf_3.fit(X_tr_transf, y_tr)\n",
    "print('Classification accuracy on training set using optimal C: {0}'.format(svc_rbf_3.score(X_tr_transf, y_tr)))\n",
    "print('Classification accuracy on validation set using optimal C: {0}'.format(svc_rbf_3.score(X_val_transf, y_val)))"
   ]
  },
  {
   "cell_type": "markdown",
   "metadata": {},
   "source": [
    "### ========== Question 1.22 ==========\n",
    "Now we turn to the kernel coefficient `gamma` parameter. By using the same procedure as in the previous question, estimate the classification accuracy of an SVM classifier with RBF kernel while you vary the `gamma` parameter in a logarithmic range `logspace(-5, 0, 10)`. Fix the penalty parameter `C=1.0`.\n",
    "\n",
    "Plot the mean cross-validated classification accuracy against the parameter `gamma` by using a log-scale for the x-axis. Display the highest obtained mean accuracy score and the value of `gamma` which yielded it.  Label axes appropriately.\n",
    "\n",
    "Finally, train a classifier by using the optimal value for this parameter (without using cross-validation at this stage) and report the classification accuracy on the training and validation sets. "
   ]
  },
  {
   "cell_type": "code",
   "execution_count": 86,
   "metadata": {
    "collapsed": false
   },
   "outputs": [
    {
     "data": {
      "image/png": "[encoded data removed]",
      "text/plain": [
       "<matplotlib.figure.Figure at 0xe58cc18>"
      ]
     },
     "metadata": {},
     "output_type": "display_data"
    },
    {
     "name": "stdout",
     "output_type": "stream",
     "text": [
      "Optimal gamma: 0.0016681005372\n",
      "Classification accuracy on training set using optimal gamma: 0.891065456283\n",
      "Classification accuracy on validation set using optimal gamma: 0.726864330638\n"
     ]
    }
   ],
   "source": [
    "# Estimate accuracy over log space in gamma\n",
    "scores_3 = np.zeros((3,10))\n",
    "logs_3 = np.logspace(-5, 0, 10)\n",
    "f = 0\n",
    "for train_indeces, test_indeces in kf3:\n",
    "    log_set = 0\n",
    "    for log in logs_3:\n",
    "        svc_temp = SVC(kernel='rbf', gamma=log, C=1.0)\n",
    "        svc_temp.fit(X_tr_transf[train_indeces], y_tr[train_indeces])\n",
    "        pred = svc_temp.predict(X_tr_transf[test_indeces])\n",
    "        scores_3[f][log_set] = accuracy_score(y_tr[test_indeces], pred)\n",
    "        log_set += 1\n",
    "    f+= 1\n",
    "\n",
    "# Get mean scores\n",
    "mean_scores_3 = np.zeros(len(scores_3[0]))\n",
    "for i in range(0, len(scores_3[0])):\n",
    "    sum = 0.0\n",
    "    count = 0\n",
    "    for fold_scores in scores_3:\n",
    "        sum += fold_scores[i]\n",
    "        count += 1\n",
    "    mean_scores_3[i] = sum/count\n",
    "\n",
    "# Plot accuracy over different gamma values\n",
    "plt.plot(logs_3, mean_scores_3)\n",
    "plt.xscale('log')\n",
    "plt.xlim(10**(-5), 10**0)\n",
    "plt.xlabel('gamma')\n",
    "plt.ylabel('mean classification performance')\n",
    "plt.title('SVC with RBF Kernel - Accuracy', fontsize=15)\n",
    "plt.show()\n",
    "\n",
    "# Get optimal gamma\n",
    "optimal_gamma = logs_3[np.argmax(mean_scores_3)]\n",
    "print(\"Optimal gamma: {0}\".format(optimal_gamma))\n",
    "# Get accuracy with optimal parameter\n",
    "svc_rbf_4 = SVC(kernel='rbf', gamma=optimal_gamma, C=1.0)\n",
    "svc_rbf_4.fit(X_tr_transf, y_tr)\n",
    "print('Classification accuracy on training set using optimal gamma: {0}'.format(svc_rbf_4.score(X_tr_transf, y_tr)))\n",
    "print('Classification accuracy on validation set using optimal gamma: {0}'.format(svc_rbf_4.score(X_val_transf, y_val)))"
   ]
  },
  {
   "cell_type": "markdown",
   "metadata": {},
   "source": [
    "### ========== Question 1.23 ==========\n",
    "Now we wish to tune both the `C` and `gamma` parameters simultaneously. To save computational time, we will now constrain the parameter search space. Define a `4 X 4` grid for the two parameters, as follows:\n",
    "* `C`: `np.logspace(-2, 1, 4)`\n",
    "* `gamma`: `np.logspace(-4, -1, 4)`\n",
    "\n",
    "Estimate the mean cross-validated classification accuracy by using training data only and all possible configurations for the two parameters. \n",
    "\n",
    "Use a [heatmap](https://seaborn.github.io/generated/seaborn.heatmap.html?highlight=heatmap#seaborn.heatmap) to visualise the mean cross-validated classification accuracy for all `C`-`gamma` pairs. Label axes appropriately and display the values for `C` and `gamma` for the best performing configuration. \n",
    "\n",
    "Finally, by using the optimal configuration, train a classifier (without using cross-validation) and report the classification accuracy on the training and validation sets."
   ]
  },
  {
   "cell_type": "code",
   "execution_count": 87,
   "metadata": {
    "collapsed": false
   },
   "outputs": [
    {
     "data": {
      "image/png": "[encoded data removed]",
      "text/plain": [
       "<matplotlib.figure.Figure at 0x1141e160>"
      ]
     },
     "metadata": {},
     "output_type": "display_data"
    },
    {
     "name": "stdout",
     "output_type": "stream",
     "text": [
      "Optimal C: 1.0\n",
      "Optimal gamma: 0.001\n",
      "Classification accuracy on training set using optimal C and gamma: 0.834687052078\n",
      "Classification accuracy on validation set using optimal C and gamma: 0.721473495058\n"
     ]
    }
   ],
   "source": [
    "# Estimate accuracy over log space in C and gamma\n",
    "log_Cs = np.logspace(-2, 1, 4)\n",
    "log_gs = np.logspace(-4, -1, 4)\n",
    "scores_4 = np.zeros((4,4))\n",
    "row = 0\n",
    "for log_C in log_Cs:\n",
    "    col = 0\n",
    "    for log_g in log_gs:\n",
    "        svc_temp = SVC(kernel='rbf', gamma=log_g, C=log_C)\n",
    "        pred = cross_val_predict(estimator=svc_temp, X=X_tr_transf[train_indeces], y=y_tr[train_indeces])\n",
    "        scores_4[row][col] = accuracy_score(y_tr[train_indeces], pred)\n",
    "        col += 1\n",
    "    row += 1\n",
    "\n",
    "# Visualise heatmap of classification for C-gamma pairs\n",
    "sns.heatmap(data=scores_4, xticklabels=log_gs, yticklabels=log_Cs)\n",
    "plt.title('Accuracy for C-gamma pairs', fontsize=17)\n",
    "plt.xlabel('gamma')\n",
    "plt.ylabel('regularisation parameter (C)')\n",
    "plt.show()\n",
    "\n",
    "# Get optimal C-gamma pair\n",
    "optimal_C_g = unravel_index(scores_4.argmax(), scores_4.shape)\n",
    "optimal_C_3 = log_Cs[optimal_C_g[0]]\n",
    "optimal_gamma_2 = log_gs[optimal_C_g[1]]\n",
    "print('Optimal C: {0}'.format(optimal_C_3))\n",
    "print('Optimal gamma: {0}'.format(optimal_gamma_2))\n",
    "# Get accuracy with optimal parameters\n",
    "svc_rbf_4 = SVC(kernel='rbf', gamma=optimal_gamma_2, C=optimal_C_3)\n",
    "svc_rbf_4.fit(X_tr_transf, y_tr)\n",
    "print('Classification accuracy on training set using optimal C and gamma: {0}'.format(svc_rbf_4.score(X_tr_transf, y_tr)))\n",
    "print('Classification accuracy on validation set using optimal C and gamma: {0}'.format(svc_rbf_4.score(X_val_transf, y_val)))"
   ]
  },
  {
   "cell_type": "markdown",
   "metadata": {},
   "source": [
    "### ========== Question 1.24 ==========\n",
    "Is the classification accuracy on the validation set higher than in previous questions (1.22-1.23)? If not, can you explain why? Can you think of a way of further improving the performance of the classifier? You don't need to implement your suggestion at this stage. Would there be any associated problems with your suggested approach? "
   ]
  },
  {
   "cell_type": "markdown",
   "metadata": {},
   "source": [
    "*Your answer goes here*\n",
    "\n",
    "No it's not. We are only testing a limited range of C and gamma values. The performance could be further improved by trying out more values. The problem with this is that more values results in an exponentially more computationally expensive task.\n",
    "\n",
    "etc. (actually no I don't think my suggested solution is a good one)"
   ]
  },
  {
   "cell_type": "markdown",
   "metadata": {},
   "source": [
    "### ========== Question 1.25 ==========\n",
    "Now we want to evaluate the performance of an SVM classifier with polynomial kernel. Once again, we will tune the `degree` parameter by using cross-validation (similarly to what we did in Questions 1.21 and 1.22).\n",
    "\n",
    "By using the `K-fold` iterator from Question 1.11 and training data only, estimate the classification accuracy of polynomial SVM classifier, while you vary the `degree` parameter in the range `np.arange(1,8)`. \n",
    "\n",
    "Plot the mean cross-validated classification accuracy against the polynomial degree. Display the highest obtained mean accuracy score and the value of the `degree` parameter which yielded it. Label axes appropriately. \n",
    "\n",
    "Finally, train a classifier by using the optimal value for this parameter (without using cross-validation at this stage) and report the classification accuracy on the training and validation sets. "
   ]
  },
  {
   "cell_type": "code",
   "execution_count": 109,
   "metadata": {
    "collapsed": false
   },
   "outputs": [
    {
     "data": {
      "image/png": "[encoded data removed]",
      "text/plain": [
       "<matplotlib.figure.Figure at 0x1656eb38>"
      ]
     },
     "metadata": {},
     "output_type": "display_data"
    },
    {
     "name": "stdout",
     "output_type": "stream",
     "text": [
      "Optimal degree: 1\n",
      "Classification accuracy on training set using optimal gamma: 0.891065456283\n",
      "Classification accuracy on validation set using optimal gamma: 0.726864330638\n"
     ]
    }
   ],
   "source": [
    "# Estimate accuracy over log space in gamma\n",
    "scores_4 = np.zeros((3,7))\n",
    "degrees = np.arange(1,8)\n",
    "f = 0\n",
    "for train_indeces, test_indeces in kf3:\n",
    "    degree_set = 0\n",
    "    for degree in degrees:\n",
    "        svc_temp = SVC(kernel='poly', degree=degree)\n",
    "        svc_temp.fit(X_tr_transf[train_indeces], y_tr[train_indeces])\n",
    "        pred = svc_temp.predict(X_tr_transf[test_indeces])\n",
    "        scores_4[f][degree_set] = accuracy_score(y_tr[test_indeces], pred)\n",
    "        degree_set += 1\n",
    "    f+= 1\n",
    "\n",
    "# Get mean scores\n",
    "mean_scores_4 = np.zeros(len(scores_4[0]))\n",
    "for i in range(0, len(scores_4[0])):\n",
    "    sum = 0.0\n",
    "    count = 0\n",
    "    for fold_scores in scores_4:\n",
    "        sum += fold_scores[i]\n",
    "        count += 1\n",
    "    mean_scores_4[i] = sum/count\n",
    "    \n",
    "# Plot accuracy over different degree values\n",
    "plt.plot(degrees, mean_scores_4)\n",
    "#plt.xscale('degree')\n",
    "#plt.xlim(10**(-5), 10**0)\n",
    "plt.xlabel('degree')\n",
    "plt.ylabel('mean classification performance')\n",
    "plt.title('Poly SVC Kernel - Accuracy', fontsize=15)\n",
    "plt.show()\n",
    "\n",
    "# Get optimal degree\n",
    "optimal_degree = degrees[np.argmax(mean_scores_4)]\n",
    "print(\"Optimal degree: {0}\".format(optimal_degree))\n",
    "# Get accuracy with optimal parameter\n",
    "svc_rbf_4 = SVC(kernel='rbf', gamma=optimal_gamma, C=1.0)\n",
    "svc_rbf_4.fit(X_tr_transf, y_tr)\n",
    "print('Classification accuracy on training set using optimal gamma: {0}'.format(svc_rbf_4.score(X_tr_transf, y_tr)))\n",
    "print('Classification accuracy on validation set using optimal gamma: {0}'.format(svc_rbf_4.score(X_val_transf, y_val)))"
   ]
  },
  {
   "cell_type": "markdown",
   "metadata": {},
   "source": [
    "### ========== Question 1.26 ==========\n",
    "\n",
    "You might have noticted that so far, we have used cross-validation for optimising the various tuning parameters (e.g. regularisation parameter in logistic regression, SVM kernel parameters) rather than hold-out validation, although we did have access to a validation set. Why do you think this is a good/bad idea? Give one advantage and one disadvantage of the two different approaches. Which one would you trust more in practice?"
   ]
  },
  {
   "cell_type": "markdown",
   "metadata": {},
   "source": [
    "*Your answer goes here*\n",
    "\n",
    "bladiblabdibla"
   ]
  },
  {
   "cell_type": "markdown",
   "metadata": {},
   "source": [
    "### ========== Question 1.27 ==========\n",
    "\n",
    "Reload the full training and validation data that contain all indicator variables for all object categories. Remove the `imgId` attribute but keep all of the class indicator variables in the dataset this time. Your training features should include all attributes except `is_person` which should be your target variable. \n",
    "\n",
    "Once again, use a [StandardScaler](http://scikit-learn.org/0.17/modules/generated/sklearn.preprocessing.StandardScaler.html) to standardise your training and validation features. Then train a Random Forest Classifier by using the entropy `criterion`, 500 `n_estimators`, and also set the `random_state` to 31. Report the classification accuracy on the training and validation sets.\n",
    "\n",
    "Similarly to what we did in Question 1.18, order the features by decreasing importance and display the 50 most important features. \n",
    "\n",
    "Finally, answer the following questions:\n",
    "* What do you notice by looking at the list of the best 50 features?\n",
    "* How does the performance differ with respect to the case when the additional class indicator variables are not present (Question 1.16)? Relate your observations to the observed feature ranking.\n",
    "* Would it be easy to make use of the results in practice? Briey explain your reasoning.\n",
    "\n",
    "*(Hint: you might want to look at some of the [images](http://www.inf.ed.ac.uk/teaching/courses/iaml/2014/assts/asst3/images.html) to justify your explanations.)*"
   ]
  },
  {
   "cell_type": "code",
   "execution_count": 89,
   "metadata": {
    "collapsed": false
   },
   "outputs": [
    {
     "name": "stdout",
     "output_type": "stream",
     "text": [
      "Classification accuracy on training set: 1.0\n",
      "Classification accuracy on validation set: 0.711590296496\n",
      "['is_diningtable', 'is_boat', 'is_bus', 'dim63', 'is_sofa', 'is_sheep', 'is_cat', 'is_bird', 'dim21', 'dim51', 'dim360', 'dim4', 'dim76', 'dim398', 'dim283', 'dim479', 'dim263', 'dim343', 'dim423', 'dim485', 'dim254', 'dim461', 'dim222', 'dim356', 'dim74', 'dim288', 'dim214', 'dim348', 'dim330', 'dim217', 'dim483', 'dim90', 'dim274', 'dim347', 'dim17', 'dim427', 'dim35', 'dim326', 'dim73', 'dim312', 'dim48', 'dim25', 'dim315', 'dim322', 'dim329', 'dim500', 'dim134', 'dim206', 'is_aeroplane', 'dim96']\n"
     ]
    }
   ],
   "source": [
    "# Retrieve features and targets\n",
    "X_tr_2 = train_A.drop(['imgId', 'is_person'], axis=1)\n",
    "X_val_2 = valid_A.drop(['imgId', 'is_person'], axis=1)\n",
    "y_tr_2 = train_A['is_person']\n",
    "y_val_2 = valid_A['is_person']\n",
    "\n",
    "# Standardise features\n",
    "stand_scaler_2 = StandardScaler()\n",
    "stand_scaler_2.fit(X_tr_2)\n",
    "X_tr_2_transf = stand_scaler_2.transform(X_tr_2)\n",
    "X_val_2_transf = stand_scaler_2.transform(X_val_2)\n",
    "\n",
    "# Train Random Forest Classifier and report accuracy\n",
    "rf_2 = RandomForestClassifier(criterion='entropy', n_estimators=500, random_state=31)\n",
    "rf_2.fit(X_tr_2_transf, y_tr_2)\n",
    "print('Classification accuracy on training set: {0}'.format(rf_2.score(X_tr_2_transf, y_tr_2)))\n",
    "print('Classification accuracy on validation set: {0}'.format(rf_2.score(X_val_2_transf, y_val_2)))\n",
    "\n",
    "# Display 50 most important features\n",
    "features_2 = pd.DataFrame(columns = ['Feature', 'Importance'], data = np.array([X_tr_2.columns.tolist(), rf_2.feature_importances_]).T)\n",
    "features_2.sort_values(by='Importance', ascending=False, inplace=True)\n",
    "print(features_2.head(50)['Feature'].tolist())"
   ]
  },
  {
   "cell_type": "markdown",
   "metadata": {},
   "source": [
    "*Your answer goes here*\n",
    "\n"
   ]
  },
  {
   "cell_type": "markdown",
   "metadata": {},
   "source": [
    "## Mini challenge [30%]"
   ]
  },
  {
   "cell_type": "markdown",
   "metadata": {},
   "source": [
    "*Important: You are allowed to write up to a maximum of 600 words in this part of the assignment. The thoroughness of the exploration and the quality of the resulting discussion is just as important as the final classification performance of your chosen method(s) and credit will be divided accordingly.*"
   ]
  },
  {
   "cell_type": "markdown",
   "metadata": {},
   "source": [
    "In this final part of the assignment we will have a mini object-recognition challenge. Using the data provided you are asked to find the best classiffier for the person/no person classification task. You can apply any preprocessing steps to the data that you think fit and employ any classiffier you like (with the provison that you can explain what the classiffier/preprocessing steps are doing). You can also employ any lessons learnt during the course, either from previous Assignments, the Labs or the lecture material to try and squeeze out as much performance as you possibly can. The only restriction is that all steps must be performed in `Python` by using the `numpy`, `pandas` and `sklearn` packages. You can also make use of `matplotlib` and `seaborn` for visualisation. "
   ]
  },
  {
   "cell_type": "markdown",
   "metadata": {},
   "source": [
    "**Important:** The classification performance metric that we will use for this part is the *cross-entropy* or *logarithmic loss* (see Lab 4). You should familiarise yourself with the metric by reading the `sklearn` [user guide](http://scikit-learn.org/0.17/modules/model_evaluation.html#log-loss) and [documentation](http://scikit-learn.org/0.17/modules/generated/sklearn.metrics.log_loss.html#sklearn.metrics.log_loss). To estimate this metric you will need to evaluate probability outputs, as opposed to discrete predictions which we have used so far to compute classification accuracies. Most models in `sklearn` implement a `predict_proba()` method which returns the posterior probabilities for each class. For instance, if your test set consists of `N` datapoints and there are `K` classes, the method will return a `N` x `K` matrix."
   ]
  },
  {
   "cell_type": "markdown",
   "metadata": {},
   "source": [
    "We provide you with three new data sets: a training set (`train_images_partB.csv`), a validation set (`valid_images_partB.csv`), and a test set (`test_images_partB.csv`). You must use the former two for training and evaluating your models (as you see fit). Once you have chosen your favourite model (and pre-processing steps) you should apply it to the test set (for which no labels are provided). Estimate the posterior proabilities for the data points in the test set and submit your results as part of your answer. Your results will be evaluated in terms of the logarithmic loss metric. You also need to submit a brief description of the approaches you considered, your suggested final approach, and a short explanation of why you chose it. The thoroughness of the exploration and the quality of the resulting discussion is just as important as the final score of your chosen method(s) and credit will be divided accordingly.\n",
    "\n",
    "*Hint: Feature engineering, feature combination, model combination and model parameter optimization can significantly improve performance.*"
   ]
  },
  {
   "cell_type": "markdown",
   "metadata": {},
   "source": [
    "**How to submit your results**: Store the estimated posterior probabilities for the data points in the test set into a 2D numpy array. Then execute the provided cell at the end of this notebook which uses a provided `save_predictions` function to export your results into a `.txt` file (the function will return an error if the provided array has not the right shape). The `.txt` file will be saved where your notebook lives. You are then required to copy this file into your submission folder along with your notebook (see Mecanics section at the top of the notebook) and then submit the two files by using the `submit` command on DICE. You are only required to use the `submit` command once."
   ]
  },
  {
   "cell_type": "markdown",
   "metadata": {},
   "source": [
    "*My answer:*"
   ]
  },
  {
   "cell_type": "markdown",
   "metadata": {},
   "source": [
    "### Exploring the dataset ###"
   ]
  },
  {
   "cell_type": "markdown",
   "metadata": {
    "collapsed": true
   },
   "source": [
    "Let's load the data."
   ]
  },
  {
   "cell_type": "code",
   "execution_count": 91,
   "metadata": {
    "collapsed": false,
    "scrolled": true
   },
   "outputs": [],
   "source": [
    "# Load the datasets\n",
    "data_path = os.path.join(os.getcwd(), 'datasets', 'train_images_partB.csv')\n",
    "train_B = pd.read_csv(data_path, delimiter = ',')\n",
    "data_path = os.path.join(os.getcwd(), 'datasets', 'valid_images_partB.csv')\n",
    "valid_B = pd.read_csv(data_path, delimiter = ',')\n",
    "\n",
    "# Retrieve names of attributes of interest\n",
    "attributes = train_B.columns[1:501].tolist()"
   ]
  },
  {
   "cell_type": "markdown",
   "metadata": {},
   "source": [
    "First, we need to get a basic overview of our data."
   ]
  },
  {
   "cell_type": "code",
   "execution_count": 92,
   "metadata": {
    "collapsed": false,
    "scrolled": true
   },
   "outputs": [
    {
     "data": {
      "text/html": [
       "<div>\n",
       "<table border=\"1\" class=\"dataframe\">\n",
       "  <thead>\n",
       "    <tr style=\"text-align: right;\">\n",
       "      <th></th>\n",
       "      <th>dim1</th>\n",
       "      <th>dim2</th>\n",
       "      <th>dim3</th>\n",
       "      <th>dim4</th>\n",
       "      <th>dim5</th>\n",
       "      <th>dim6</th>\n",
       "      <th>dim7</th>\n",
       "      <th>dim8</th>\n",
       "      <th>dim9</th>\n",
       "      <th>dim10</th>\n",
       "      <th>...</th>\n",
       "      <th>is_cow</th>\n",
       "      <th>is_diningtable</th>\n",
       "      <th>is_dog</th>\n",
       "      <th>is_horse</th>\n",
       "      <th>is_motorbike</th>\n",
       "      <th>is_person</th>\n",
       "      <th>is_pottedplant</th>\n",
       "      <th>is_sheep</th>\n",
       "      <th>is_sofa</th>\n",
       "      <th>is_tvmonitor</th>\n",
       "    </tr>\n",
       "  </thead>\n",
       "  <tbody>\n",
       "    <tr>\n",
       "      <th>count</th>\n",
       "      <td>2113.000000</td>\n",
       "      <td>2113.000000</td>\n",
       "      <td>2113.000000</td>\n",
       "      <td>2113.000000</td>\n",
       "      <td>2113.000000</td>\n",
       "      <td>2113.000000</td>\n",
       "      <td>2113.000000</td>\n",
       "      <td>2113.000000</td>\n",
       "      <td>2113.000000</td>\n",
       "      <td>2113.000000</td>\n",
       "      <td>...</td>\n",
       "      <td>2113.000000</td>\n",
       "      <td>2113.000000</td>\n",
       "      <td>2113.000000</td>\n",
       "      <td>2113.000000</td>\n",
       "      <td>2113.000000</td>\n",
       "      <td>2113.000000</td>\n",
       "      <td>2113.000000</td>\n",
       "      <td>2113.000000</td>\n",
       "      <td>2113.000000</td>\n",
       "      <td>2113.000000</td>\n",
       "    </tr>\n",
       "    <tr>\n",
       "      <th>mean</th>\n",
       "      <td>0.043353</td>\n",
       "      <td>0.050830</td>\n",
       "      <td>0.047988</td>\n",
       "      <td>0.037411</td>\n",
       "      <td>0.043365</td>\n",
       "      <td>0.049670</td>\n",
       "      <td>0.051071</td>\n",
       "      <td>0.043601</td>\n",
       "      <td>0.052698</td>\n",
       "      <td>0.054139</td>\n",
       "      <td>...</td>\n",
       "      <td>0.017511</td>\n",
       "      <td>0.025083</td>\n",
       "      <td>0.088027</td>\n",
       "      <td>0.045433</td>\n",
       "      <td>0.048273</td>\n",
       "      <td>0.448178</td>\n",
       "      <td>0.040227</td>\n",
       "      <td>0.015144</td>\n",
       "      <td>0.032655</td>\n",
       "      <td>0.050639</td>\n",
       "    </tr>\n",
       "    <tr>\n",
       "      <th>std</th>\n",
       "      <td>0.513260</td>\n",
       "      <td>0.582839</td>\n",
       "      <td>0.482166</td>\n",
       "      <td>0.464611</td>\n",
       "      <td>0.491187</td>\n",
       "      <td>0.558422</td>\n",
       "      <td>0.577599</td>\n",
       "      <td>0.472706</td>\n",
       "      <td>0.571629</td>\n",
       "      <td>0.588484</td>\n",
       "      <td>...</td>\n",
       "      <td>0.131195</td>\n",
       "      <td>0.156414</td>\n",
       "      <td>0.283401</td>\n",
       "      <td>0.208301</td>\n",
       "      <td>0.214392</td>\n",
       "      <td>0.497425</td>\n",
       "      <td>0.196538</td>\n",
       "      <td>0.122156</td>\n",
       "      <td>0.177774</td>\n",
       "      <td>0.219311</td>\n",
       "    </tr>\n",
       "    <tr>\n",
       "      <th>min</th>\n",
       "      <td>0.000000</td>\n",
       "      <td>0.000000</td>\n",
       "      <td>0.000000</td>\n",
       "      <td>0.000000</td>\n",
       "      <td>0.000000</td>\n",
       "      <td>0.000000</td>\n",
       "      <td>0.000000</td>\n",
       "      <td>0.000000</td>\n",
       "      <td>0.000000</td>\n",
       "      <td>0.000000</td>\n",
       "      <td>...</td>\n",
       "      <td>0.000000</td>\n",
       "      <td>0.000000</td>\n",
       "      <td>0.000000</td>\n",
       "      <td>0.000000</td>\n",
       "      <td>0.000000</td>\n",
       "      <td>0.000000</td>\n",
       "      <td>0.000000</td>\n",
       "      <td>0.000000</td>\n",
       "      <td>0.000000</td>\n",
       "      <td>0.000000</td>\n",
       "    </tr>\n",
       "    <tr>\n",
       "      <th>25%</th>\n",
       "      <td>0.000868</td>\n",
       "      <td>0.000000</td>\n",
       "      <td>0.001359</td>\n",
       "      <td>0.000781</td>\n",
       "      <td>0.001116</td>\n",
       "      <td>0.001019</td>\n",
       "      <td>0.000340</td>\n",
       "      <td>0.000651</td>\n",
       "      <td>0.000756</td>\n",
       "      <td>0.001116</td>\n",
       "      <td>...</td>\n",
       "      <td>0.000000</td>\n",
       "      <td>0.000000</td>\n",
       "      <td>0.000000</td>\n",
       "      <td>0.000000</td>\n",
       "      <td>0.000000</td>\n",
       "      <td>0.000000</td>\n",
       "      <td>0.000000</td>\n",
       "      <td>0.000000</td>\n",
       "      <td>0.000000</td>\n",
       "      <td>0.000000</td>\n",
       "    </tr>\n",
       "    <tr>\n",
       "      <th>50%</th>\n",
       "      <td>0.001616</td>\n",
       "      <td>0.000340</td>\n",
       "      <td>0.003516</td>\n",
       "      <td>0.001698</td>\n",
       "      <td>0.002038</td>\n",
       "      <td>0.001860</td>\n",
       "      <td>0.000756</td>\n",
       "      <td>0.001645</td>\n",
       "      <td>0.001698</td>\n",
       "      <td>0.002155</td>\n",
       "      <td>...</td>\n",
       "      <td>0.000000</td>\n",
       "      <td>0.000000</td>\n",
       "      <td>0.000000</td>\n",
       "      <td>0.000000</td>\n",
       "      <td>0.000000</td>\n",
       "      <td>0.000000</td>\n",
       "      <td>0.000000</td>\n",
       "      <td>0.000000</td>\n",
       "      <td>0.000000</td>\n",
       "      <td>0.000000</td>\n",
       "    </tr>\n",
       "    <tr>\n",
       "      <th>75%</th>\n",
       "      <td>0.002404</td>\n",
       "      <td>0.001008</td>\n",
       "      <td>0.006454</td>\n",
       "      <td>0.002717</td>\n",
       "      <td>0.003125</td>\n",
       "      <td>0.003057</td>\n",
       "      <td>0.001488</td>\n",
       "      <td>0.003397</td>\n",
       "      <td>0.002734</td>\n",
       "      <td>0.003736</td>\n",
       "      <td>...</td>\n",
       "      <td>0.000000</td>\n",
       "      <td>0.000000</td>\n",
       "      <td>0.000000</td>\n",
       "      <td>0.000000</td>\n",
       "      <td>0.000000</td>\n",
       "      <td>1.000000</td>\n",
       "      <td>0.000000</td>\n",
       "      <td>0.000000</td>\n",
       "      <td>0.000000</td>\n",
       "      <td>0.000000</td>\n",
       "    </tr>\n",
       "    <tr>\n",
       "      <th>max</th>\n",
       "      <td>9.984000</td>\n",
       "      <td>9.122238</td>\n",
       "      <td>7.676800</td>\n",
       "      <td>9.695738</td>\n",
       "      <td>8.762671</td>\n",
       "      <td>9.489078</td>\n",
       "      <td>9.751526</td>\n",
       "      <td>8.691076</td>\n",
       "      <td>9.013933</td>\n",
       "      <td>9.602705</td>\n",
       "      <td>...</td>\n",
       "      <td>1.000000</td>\n",
       "      <td>1.000000</td>\n",
       "      <td>1.000000</td>\n",
       "      <td>1.000000</td>\n",
       "      <td>1.000000</td>\n",
       "      <td>1.000000</td>\n",
       "      <td>1.000000</td>\n",
       "      <td>1.000000</td>\n",
       "      <td>1.000000</td>\n",
       "      <td>1.000000</td>\n",
       "    </tr>\n",
       "  </tbody>\n",
       "</table>\n",
       "<p>8 rows × 519 columns</p>\n",
       "</div>"
      ],
      "text/plain": [
       "              dim1         dim2         dim3         dim4         dim5  \\\n",
       "count  2113.000000  2113.000000  2113.000000  2113.000000  2113.000000   \n",
       "mean      0.043353     0.050830     0.047988     0.037411     0.043365   \n",
       "std       0.513260     0.582839     0.482166     0.464611     0.491187   \n",
       "min       0.000000     0.000000     0.000000     0.000000     0.000000   \n",
       "25%       0.000868     0.000000     0.001359     0.000781     0.001116   \n",
       "50%       0.001616     0.000340     0.003516     0.001698     0.002038   \n",
       "75%       0.002404     0.001008     0.006454     0.002717     0.003125   \n",
       "max       9.984000     9.122238     7.676800     9.695738     8.762671   \n",
       "\n",
       "              dim6         dim7         dim8         dim9        dim10  \\\n",
       "count  2113.000000  2113.000000  2113.000000  2113.000000  2113.000000   \n",
       "mean      0.049670     0.051071     0.043601     0.052698     0.054139   \n",
       "std       0.558422     0.577599     0.472706     0.571629     0.588484   \n",
       "min       0.000000     0.000000     0.000000     0.000000     0.000000   \n",
       "25%       0.001019     0.000340     0.000651     0.000756     0.001116   \n",
       "50%       0.001860     0.000756     0.001645     0.001698     0.002155   \n",
       "75%       0.003057     0.001488     0.003397     0.002734     0.003736   \n",
       "max       9.489078     9.751526     8.691076     9.013933     9.602705   \n",
       "\n",
       "           ...            is_cow  is_diningtable       is_dog     is_horse  \\\n",
       "count      ...       2113.000000     2113.000000  2113.000000  2113.000000   \n",
       "mean       ...          0.017511        0.025083     0.088027     0.045433   \n",
       "std        ...          0.131195        0.156414     0.283401     0.208301   \n",
       "min        ...          0.000000        0.000000     0.000000     0.000000   \n",
       "25%        ...          0.000000        0.000000     0.000000     0.000000   \n",
       "50%        ...          0.000000        0.000000     0.000000     0.000000   \n",
       "75%        ...          0.000000        0.000000     0.000000     0.000000   \n",
       "max        ...          1.000000        1.000000     1.000000     1.000000   \n",
       "\n",
       "       is_motorbike    is_person  is_pottedplant     is_sheep      is_sofa  \\\n",
       "count   2113.000000  2113.000000     2113.000000  2113.000000  2113.000000   \n",
       "mean       0.048273     0.448178        0.040227     0.015144     0.032655   \n",
       "std        0.214392     0.497425        0.196538     0.122156     0.177774   \n",
       "min        0.000000     0.000000        0.000000     0.000000     0.000000   \n",
       "25%        0.000000     0.000000        0.000000     0.000000     0.000000   \n",
       "50%        0.000000     0.000000        0.000000     0.000000     0.000000   \n",
       "75%        0.000000     1.000000        0.000000     0.000000     0.000000   \n",
       "max        1.000000     1.000000        1.000000     1.000000     1.000000   \n",
       "\n",
       "       is_tvmonitor  \n",
       "count   2113.000000  \n",
       "mean       0.050639  \n",
       "std        0.219311  \n",
       "min        0.000000  \n",
       "25%        0.000000  \n",
       "50%        0.000000  \n",
       "75%        0.000000  \n",
       "max        1.000000  \n",
       "\n",
       "[8 rows x 519 columns]"
      ]
     },
     "execution_count": 92,
     "metadata": {},
     "output_type": "execute_result"
    }
   ],
   "source": [
    "train_B.describe()"
   ]
  },
  {
   "cell_type": "markdown",
   "metadata": {},
   "source": [
    "It's always important to check for outliers before training a model. In this case, the attributes (dim1, dim2, ...) represent SIFT features. Since these can only take a value between 0 and 1, there are clearly some outliers in our dataset. Let's remove them."
   ]
  },
  {
   "cell_type": "markdown",
   "metadata": {},
   "source": [
    "### Making some changes ###"
   ]
  },
  {
   "cell_type": "code",
   "execution_count": 112,
   "metadata": {
    "collapsed": false,
    "scrolled": true
   },
   "outputs": [
    {
     "data": {
      "text/html": [
       "<div>\n",
       "<table border=\"1\" class=\"dataframe\">\n",
       "  <thead>\n",
       "    <tr style=\"text-align: right;\">\n",
       "      <th></th>\n",
       "      <th>dim1</th>\n",
       "      <th>dim2</th>\n",
       "      <th>dim3</th>\n",
       "      <th>dim4</th>\n",
       "      <th>dim5</th>\n",
       "      <th>dim6</th>\n",
       "      <th>dim7</th>\n",
       "      <th>dim8</th>\n",
       "      <th>dim9</th>\n",
       "      <th>dim10</th>\n",
       "      <th>...</th>\n",
       "      <th>is_cow</th>\n",
       "      <th>is_diningtable</th>\n",
       "      <th>is_dog</th>\n",
       "      <th>is_horse</th>\n",
       "      <th>is_motorbike</th>\n",
       "      <th>is_person</th>\n",
       "      <th>is_pottedplant</th>\n",
       "      <th>is_sheep</th>\n",
       "      <th>is_sofa</th>\n",
       "      <th>is_tvmonitor</th>\n",
       "    </tr>\n",
       "  </thead>\n",
       "  <tbody>\n",
       "    <tr>\n",
       "      <th>count</th>\n",
       "      <td>2093.000000</td>\n",
       "      <td>2093.000000</td>\n",
       "      <td>2093.000000</td>\n",
       "      <td>2093.000000</td>\n",
       "      <td>2093.000000</td>\n",
       "      <td>2093.000000</td>\n",
       "      <td>2093.000000</td>\n",
       "      <td>2093.000000</td>\n",
       "      <td>2093.000000</td>\n",
       "      <td>2093.000000</td>\n",
       "      <td>...</td>\n",
       "      <td>2093.000000</td>\n",
       "      <td>2093.000000</td>\n",
       "      <td>2093.000000</td>\n",
       "      <td>2093.000000</td>\n",
       "      <td>2093.000000</td>\n",
       "      <td>2093.000000</td>\n",
       "      <td>2093.000000</td>\n",
       "      <td>2093.000000</td>\n",
       "      <td>2093.000000</td>\n",
       "      <td>2093.000000</td>\n",
       "    </tr>\n",
       "    <tr>\n",
       "      <th>mean</th>\n",
       "      <td>0.001751</td>\n",
       "      <td>0.000756</td>\n",
       "      <td>0.004317</td>\n",
       "      <td>0.001853</td>\n",
       "      <td>0.002272</td>\n",
       "      <td>0.002220</td>\n",
       "      <td>0.001019</td>\n",
       "      <td>0.002446</td>\n",
       "      <td>0.002088</td>\n",
       "      <td>0.002746</td>\n",
       "      <td>...</td>\n",
       "      <td>0.017200</td>\n",
       "      <td>0.025323</td>\n",
       "      <td>0.088390</td>\n",
       "      <td>0.045867</td>\n",
       "      <td>0.048256</td>\n",
       "      <td>0.449116</td>\n",
       "      <td>0.040134</td>\n",
       "      <td>0.015289</td>\n",
       "      <td>0.032489</td>\n",
       "      <td>0.050167</td>\n",
       "    </tr>\n",
       "    <tr>\n",
       "      <th>std</th>\n",
       "      <td>0.001193</td>\n",
       "      <td>0.001406</td>\n",
       "      <td>0.003693</td>\n",
       "      <td>0.001340</td>\n",
       "      <td>0.001598</td>\n",
       "      <td>0.001741</td>\n",
       "      <td>0.000873</td>\n",
       "      <td>0.002910</td>\n",
       "      <td>0.001971</td>\n",
       "      <td>0.002328</td>\n",
       "      <td>...</td>\n",
       "      <td>0.130048</td>\n",
       "      <td>0.157140</td>\n",
       "      <td>0.283929</td>\n",
       "      <td>0.209247</td>\n",
       "      <td>0.214358</td>\n",
       "      <td>0.497523</td>\n",
       "      <td>0.196320</td>\n",
       "      <td>0.122729</td>\n",
       "      <td>0.177338</td>\n",
       "      <td>0.218342</td>\n",
       "    </tr>\n",
       "    <tr>\n",
       "      <th>min</th>\n",
       "      <td>0.000000</td>\n",
       "      <td>0.000000</td>\n",
       "      <td>0.000000</td>\n",
       "      <td>0.000000</td>\n",
       "      <td>0.000000</td>\n",
       "      <td>0.000000</td>\n",
       "      <td>0.000000</td>\n",
       "      <td>0.000000</td>\n",
       "      <td>0.000000</td>\n",
       "      <td>0.000000</td>\n",
       "      <td>...</td>\n",
       "      <td>0.000000</td>\n",
       "      <td>0.000000</td>\n",
       "      <td>0.000000</td>\n",
       "      <td>0.000000</td>\n",
       "      <td>0.000000</td>\n",
       "      <td>0.000000</td>\n",
       "      <td>0.000000</td>\n",
       "      <td>0.000000</td>\n",
       "      <td>0.000000</td>\n",
       "      <td>0.000000</td>\n",
       "    </tr>\n",
       "    <tr>\n",
       "      <th>25%</th>\n",
       "      <td>0.000833</td>\n",
       "      <td>0.000000</td>\n",
       "      <td>0.001359</td>\n",
       "      <td>0.000756</td>\n",
       "      <td>0.001116</td>\n",
       "      <td>0.001019</td>\n",
       "      <td>0.000340</td>\n",
       "      <td>0.000625</td>\n",
       "      <td>0.000744</td>\n",
       "      <td>0.001116</td>\n",
       "      <td>...</td>\n",
       "      <td>0.000000</td>\n",
       "      <td>0.000000</td>\n",
       "      <td>0.000000</td>\n",
       "      <td>0.000000</td>\n",
       "      <td>0.000000</td>\n",
       "      <td>0.000000</td>\n",
       "      <td>0.000000</td>\n",
       "      <td>0.000000</td>\n",
       "      <td>0.000000</td>\n",
       "      <td>0.000000</td>\n",
       "    </tr>\n",
       "    <tr>\n",
       "      <th>50%</th>\n",
       "      <td>0.001563</td>\n",
       "      <td>0.000340</td>\n",
       "      <td>0.003397</td>\n",
       "      <td>0.001698</td>\n",
       "      <td>0.002038</td>\n",
       "      <td>0.001860</td>\n",
       "      <td>0.000744</td>\n",
       "      <td>0.001563</td>\n",
       "      <td>0.001698</td>\n",
       "      <td>0.002056</td>\n",
       "      <td>...</td>\n",
       "      <td>0.000000</td>\n",
       "      <td>0.000000</td>\n",
       "      <td>0.000000</td>\n",
       "      <td>0.000000</td>\n",
       "      <td>0.000000</td>\n",
       "      <td>0.000000</td>\n",
       "      <td>0.000000</td>\n",
       "      <td>0.000000</td>\n",
       "      <td>0.000000</td>\n",
       "      <td>0.000000</td>\n",
       "    </tr>\n",
       "    <tr>\n",
       "      <th>75%</th>\n",
       "      <td>0.002378</td>\n",
       "      <td>0.000893</td>\n",
       "      <td>0.006324</td>\n",
       "      <td>0.002717</td>\n",
       "      <td>0.003057</td>\n",
       "      <td>0.003057</td>\n",
       "      <td>0.001488</td>\n",
       "      <td>0.003397</td>\n",
       "      <td>0.002717</td>\n",
       "      <td>0.003736</td>\n",
       "      <td>...</td>\n",
       "      <td>0.000000</td>\n",
       "      <td>0.000000</td>\n",
       "      <td>0.000000</td>\n",
       "      <td>0.000000</td>\n",
       "      <td>0.000000</td>\n",
       "      <td>1.000000</td>\n",
       "      <td>0.000000</td>\n",
       "      <td>0.000000</td>\n",
       "      <td>0.000000</td>\n",
       "      <td>0.000000</td>\n",
       "    </tr>\n",
       "    <tr>\n",
       "      <th>max</th>\n",
       "      <td>0.009851</td>\n",
       "      <td>0.016644</td>\n",
       "      <td>0.027514</td>\n",
       "      <td>0.010789</td>\n",
       "      <td>0.010417</td>\n",
       "      <td>0.021739</td>\n",
       "      <td>0.005774</td>\n",
       "      <td>0.029830</td>\n",
       "      <td>0.028372</td>\n",
       "      <td>0.020380</td>\n",
       "      <td>...</td>\n",
       "      <td>1.000000</td>\n",
       "      <td>1.000000</td>\n",
       "      <td>1.000000</td>\n",
       "      <td>1.000000</td>\n",
       "      <td>1.000000</td>\n",
       "      <td>1.000000</td>\n",
       "      <td>1.000000</td>\n",
       "      <td>1.000000</td>\n",
       "      <td>1.000000</td>\n",
       "      <td>1.000000</td>\n",
       "    </tr>\n",
       "  </tbody>\n",
       "</table>\n",
       "<p>8 rows × 519 columns</p>\n",
       "</div>"
      ],
      "text/plain": [
       "              dim1         dim2         dim3         dim4         dim5  \\\n",
       "count  2093.000000  2093.000000  2093.000000  2093.000000  2093.000000   \n",
       "mean      0.001751     0.000756     0.004317     0.001853     0.002272   \n",
       "std       0.001193     0.001406     0.003693     0.001340     0.001598   \n",
       "min       0.000000     0.000000     0.000000     0.000000     0.000000   \n",
       "25%       0.000833     0.000000     0.001359     0.000756     0.001116   \n",
       "50%       0.001563     0.000340     0.003397     0.001698     0.002038   \n",
       "75%       0.002378     0.000893     0.006324     0.002717     0.003057   \n",
       "max       0.009851     0.016644     0.027514     0.010789     0.010417   \n",
       "\n",
       "              dim6         dim7         dim8         dim9        dim10  \\\n",
       "count  2093.000000  2093.000000  2093.000000  2093.000000  2093.000000   \n",
       "mean      0.002220     0.001019     0.002446     0.002088     0.002746   \n",
       "std       0.001741     0.000873     0.002910     0.001971     0.002328   \n",
       "min       0.000000     0.000000     0.000000     0.000000     0.000000   \n",
       "25%       0.001019     0.000340     0.000625     0.000744     0.001116   \n",
       "50%       0.001860     0.000744     0.001563     0.001698     0.002056   \n",
       "75%       0.003057     0.001488     0.003397     0.002717     0.003736   \n",
       "max       0.021739     0.005774     0.029830     0.028372     0.020380   \n",
       "\n",
       "           ...            is_cow  is_diningtable       is_dog     is_horse  \\\n",
       "count      ...       2093.000000     2093.000000  2093.000000  2093.000000   \n",
       "mean       ...          0.017200        0.025323     0.088390     0.045867   \n",
       "std        ...          0.130048        0.157140     0.283929     0.209247   \n",
       "min        ...          0.000000        0.000000     0.000000     0.000000   \n",
       "25%        ...          0.000000        0.000000     0.000000     0.000000   \n",
       "50%        ...          0.000000        0.000000     0.000000     0.000000   \n",
       "75%        ...          0.000000        0.000000     0.000000     0.000000   \n",
       "max        ...          1.000000        1.000000     1.000000     1.000000   \n",
       "\n",
       "       is_motorbike    is_person  is_pottedplant     is_sheep      is_sofa  \\\n",
       "count   2093.000000  2093.000000     2093.000000  2093.000000  2093.000000   \n",
       "mean       0.048256     0.449116        0.040134     0.015289     0.032489   \n",
       "std        0.214358     0.497523        0.196320     0.122729     0.177338   \n",
       "min        0.000000     0.000000        0.000000     0.000000     0.000000   \n",
       "25%        0.000000     0.000000        0.000000     0.000000     0.000000   \n",
       "50%        0.000000     0.000000        0.000000     0.000000     0.000000   \n",
       "75%        0.000000     1.000000        0.000000     0.000000     0.000000   \n",
       "max        1.000000     1.000000        1.000000     1.000000     1.000000   \n",
       "\n",
       "       is_tvmonitor  \n",
       "count   2093.000000  \n",
       "mean       0.050167  \n",
       "std        0.218342  \n",
       "min        0.000000  \n",
       "25%        0.000000  \n",
       "50%        0.000000  \n",
       "75%        0.000000  \n",
       "max        1.000000  \n",
       "\n",
       "[8 rows x 519 columns]"
      ]
     },
     "execution_count": 112,
     "metadata": {},
     "output_type": "execute_result"
    }
   ],
   "source": [
    "# Remove outliers\n",
    "outlier_rows = []\n",
    "for col in attributes:\n",
    "    col_items = train_B[col]\n",
    "    to_remove = col_items.loc[col_items > 1].index # threshold at 1\n",
    "    outlier_rows.extend(to_remove)\n",
    "train_B.drop(outlier_rows, axis=0, inplace=True)\n",
    "train_B.describe()"
   ]
  },
  {
   "cell_type": "markdown",
   "metadata": {},
   "source": [
    "That looks better. Let's prepare our datasets."
   ]
  },
  {
   "cell_type": "code",
   "execution_count": 113,
   "metadata": {
    "collapsed": true
   },
   "outputs": [],
   "source": [
    "# (Re-)Prepare data\n",
    "X_train = train_B[attributes]\n",
    "X_valid = valid_B[attributes]\n",
    "y_train = train_B['is_person']\n",
    "y_valid = valid_B['is_person']"
   ]
  },
  {
   "cell_type": "code",
   "execution_count": 114,
   "metadata": {
    "collapsed": false
   },
   "outputs": [
    {
     "data": {
      "text/html": [
       "<div>\n",
       "<table border=\"1\" class=\"dataframe\">\n",
       "  <thead>\n",
       "    <tr style=\"text-align: right;\">\n",
       "      <th></th>\n",
       "      <th>dim1</th>\n",
       "      <th>dim2</th>\n",
       "      <th>dim3</th>\n",
       "      <th>dim4</th>\n",
       "      <th>dim5</th>\n",
       "      <th>dim6</th>\n",
       "      <th>dim7</th>\n",
       "      <th>dim8</th>\n",
       "      <th>dim9</th>\n",
       "      <th>dim10</th>\n",
       "      <th>...</th>\n",
       "      <th>dim491</th>\n",
       "      <th>dim492</th>\n",
       "      <th>dim493</th>\n",
       "      <th>dim494</th>\n",
       "      <th>dim495</th>\n",
       "      <th>dim496</th>\n",
       "      <th>dim497</th>\n",
       "      <th>dim498</th>\n",
       "      <th>dim499</th>\n",
       "      <th>dim500</th>\n",
       "    </tr>\n",
       "  </thead>\n",
       "  <tbody>\n",
       "    <tr>\n",
       "      <th>count</th>\n",
       "      <td>2.093000e+03</td>\n",
       "      <td>2.093000e+03</td>\n",
       "      <td>2.093000e+03</td>\n",
       "      <td>2.093000e+03</td>\n",
       "      <td>2.093000e+03</td>\n",
       "      <td>2.093000e+03</td>\n",
       "      <td>2.093000e+03</td>\n",
       "      <td>2.093000e+03</td>\n",
       "      <td>2.093000e+03</td>\n",
       "      <td>2.093000e+03</td>\n",
       "      <td>...</td>\n",
       "      <td>2.093000e+03</td>\n",
       "      <td>2.093000e+03</td>\n",
       "      <td>2.093000e+03</td>\n",
       "      <td>2.093000e+03</td>\n",
       "      <td>2.093000e+03</td>\n",
       "      <td>2.093000e+03</td>\n",
       "      <td>2.093000e+03</td>\n",
       "      <td>2.093000e+03</td>\n",
       "      <td>2.093000e+03</td>\n",
       "      <td>2.093000e+03</td>\n",
       "    </tr>\n",
       "    <tr>\n",
       "      <th>mean</th>\n",
       "      <td>2.206654e-17</td>\n",
       "      <td>2.208246e-16</td>\n",
       "      <td>2.682995e-16</td>\n",
       "      <td>1.608312e-16</td>\n",
       "      <td>-2.693338e-17</td>\n",
       "      <td>2.251742e-17</td>\n",
       "      <td>2.257577e-16</td>\n",
       "      <td>1.078662e-16</td>\n",
       "      <td>-4.296942e-17</td>\n",
       "      <td>-6.646486e-17</td>\n",
       "      <td>...</td>\n",
       "      <td>-3.607031e-18</td>\n",
       "      <td>-9.807943e-17</td>\n",
       "      <td>2.330779e-16</td>\n",
       "      <td>-2.851677e-16</td>\n",
       "      <td>7.198149e-17</td>\n",
       "      <td>2.758318e-18</td>\n",
       "      <td>3.522160e-17</td>\n",
       "      <td>-8.062776e-18</td>\n",
       "      <td>-2.229994e-16</td>\n",
       "      <td>5.803077e-17</td>\n",
       "    </tr>\n",
       "    <tr>\n",
       "      <th>std</th>\n",
       "      <td>1.000239e+00</td>\n",
       "      <td>1.000239e+00</td>\n",
       "      <td>1.000239e+00</td>\n",
       "      <td>1.000239e+00</td>\n",
       "      <td>1.000239e+00</td>\n",
       "      <td>1.000239e+00</td>\n",
       "      <td>1.000239e+00</td>\n",
       "      <td>1.000239e+00</td>\n",
       "      <td>1.000239e+00</td>\n",
       "      <td>1.000239e+00</td>\n",
       "      <td>...</td>\n",
       "      <td>1.000239e+00</td>\n",
       "      <td>1.000239e+00</td>\n",
       "      <td>1.000239e+00</td>\n",
       "      <td>1.000239e+00</td>\n",
       "      <td>1.000239e+00</td>\n",
       "      <td>1.000239e+00</td>\n",
       "      <td>1.000239e+00</td>\n",
       "      <td>1.000239e+00</td>\n",
       "      <td>1.000239e+00</td>\n",
       "      <td>1.000239e+00</td>\n",
       "    </tr>\n",
       "    <tr>\n",
       "      <th>min</th>\n",
       "      <td>-1.467609e+00</td>\n",
       "      <td>-5.376270e-01</td>\n",
       "      <td>-1.169096e+00</td>\n",
       "      <td>-1.382494e+00</td>\n",
       "      <td>-1.422313e+00</td>\n",
       "      <td>-1.275367e+00</td>\n",
       "      <td>-1.166647e+00</td>\n",
       "      <td>-8.406811e-01</td>\n",
       "      <td>-1.059640e+00</td>\n",
       "      <td>-1.179971e+00</td>\n",
       "      <td>...</td>\n",
       "      <td>-1.320488e+00</td>\n",
       "      <td>-4.686334e-01</td>\n",
       "      <td>-7.874811e-01</td>\n",
       "      <td>-1.293148e+00</td>\n",
       "      <td>-1.370910e+00</td>\n",
       "      <td>-1.322547e+00</td>\n",
       "      <td>-9.000586e-01</td>\n",
       "      <td>-1.532385e+00</td>\n",
       "      <td>-1.244493e+00</td>\n",
       "      <td>-1.077284e+00</td>\n",
       "    </tr>\n",
       "    <tr>\n",
       "      <th>25%</th>\n",
       "      <td>-7.692574e-01</td>\n",
       "      <td>-5.376270e-01</td>\n",
       "      <td>-8.010576e-01</td>\n",
       "      <td>-8.183874e-01</td>\n",
       "      <td>-7.238232e-01</td>\n",
       "      <td>-6.900673e-01</td>\n",
       "      <td>-7.771932e-01</td>\n",
       "      <td>-6.258517e-01</td>\n",
       "      <td>-6.820925e-01</td>\n",
       "      <td>-7.004506e-01</td>\n",
       "      <td>...</td>\n",
       "      <td>-6.898876e-01</td>\n",
       "      <td>-4.686334e-01</td>\n",
       "      <td>-6.708815e-01</td>\n",
       "      <td>-7.231761e-01</td>\n",
       "      <td>-7.316762e-01</td>\n",
       "      <td>-7.098779e-01</td>\n",
       "      <td>-6.713329e-01</td>\n",
       "      <td>-7.453807e-01</td>\n",
       "      <td>-7.341369e-01</td>\n",
       "      <td>-7.086063e-01</td>\n",
       "    </tr>\n",
       "    <tr>\n",
       "      <th>50%</th>\n",
       "      <td>-1.572570e-01</td>\n",
       "      <td>-2.958123e-01</td>\n",
       "      <td>-2.491360e-01</td>\n",
       "      <td>-1.154922e-01</td>\n",
       "      <td>-1.467552e-01</td>\n",
       "      <td>-2.070083e-01</td>\n",
       "      <td>-3.144307e-01</td>\n",
       "      <td>-3.034357e-01</td>\n",
       "      <td>-1.979796e-01</td>\n",
       "      <td>-2.965535e-01</td>\n",
       "      <td>...</td>\n",
       "      <td>-1.694410e-01</td>\n",
       "      <td>-4.686334e-01</td>\n",
       "      <td>-3.209111e-01</td>\n",
       "      <td>-1.523642e-01</td>\n",
       "      <td>-2.200633e-01</td>\n",
       "      <td>-2.042302e-01</td>\n",
       "      <td>-2.996535e-01</td>\n",
       "      <td>-9.518560e-02</td>\n",
       "      <td>-2.237804e-01</td>\n",
       "      <td>-2.697382e-01</td>\n",
       "    </tr>\n",
       "    <tr>\n",
       "      <th>75%</th>\n",
       "      <td>5.260038e-01</td>\n",
       "      <td>9.749214e-02</td>\n",
       "      <td>5.435405e-01</td>\n",
       "      <td>6.448584e-01</td>\n",
       "      <td>4.910240e-01</td>\n",
       "      <td>4.805323e-01</td>\n",
       "      <td>5.377856e-01</td>\n",
       "      <td>3.269599e-01</td>\n",
       "      <td>3.191180e-01</td>\n",
       "      <td>4.253053e-01</td>\n",
       "      <td>...</td>\n",
       "      <td>5.211872e-01</td>\n",
       "      <td>9.607228e-02</td>\n",
       "      <td>3.208157e-01</td>\n",
       "      <td>5.804575e-01</td>\n",
       "      <td>4.391231e-01</td>\n",
       "      <td>5.154609e-01</td>\n",
       "      <td>2.620157e-01</td>\n",
       "      <td>5.662927e-01</td>\n",
       "      <td>4.568617e-01</td>\n",
       "      <td>3.974282e-01</td>\n",
       "    </tr>\n",
       "    <tr>\n",
       "      <th>max</th>\n",
       "      <td>6.791044e+00</td>\n",
       "      <td>1.129991e+01</td>\n",
       "      <td>6.282117e+00</td>\n",
       "      <td>6.667969e+00</td>\n",
       "      <td>5.097554e+00</td>\n",
       "      <td>1.121122e+01</td>\n",
       "      <td>5.447193e+00</td>\n",
       "      <td>9.412699e+00</td>\n",
       "      <td>1.333790e+01</td>\n",
       "      <td>7.576863e+00</td>\n",
       "      <td>...</td>\n",
       "      <td>5.406330e+00</td>\n",
       "      <td>1.761110e+01</td>\n",
       "      <td>8.370306e+00</td>\n",
       "      <td>7.297570e+00</td>\n",
       "      <td>7.836241e+00</td>\n",
       "      <td>5.723451e+00</td>\n",
       "      <td>7.746327e+00</td>\n",
       "      <td>4.456180e+00</td>\n",
       "      <td>6.022201e+00</td>\n",
       "      <td>9.246066e+00</td>\n",
       "    </tr>\n",
       "  </tbody>\n",
       "</table>\n",
       "<p>8 rows × 500 columns</p>\n",
       "</div>"
      ],
      "text/plain": [
       "               dim1          dim2          dim3          dim4          dim5  \\\n",
       "count  2.093000e+03  2.093000e+03  2.093000e+03  2.093000e+03  2.093000e+03   \n",
       "mean   2.206654e-17  2.208246e-16  2.682995e-16  1.608312e-16 -2.693338e-17   \n",
       "std    1.000239e+00  1.000239e+00  1.000239e+00  1.000239e+00  1.000239e+00   \n",
       "min   -1.467609e+00 -5.376270e-01 -1.169096e+00 -1.382494e+00 -1.422313e+00   \n",
       "25%   -7.692574e-01 -5.376270e-01 -8.010576e-01 -8.183874e-01 -7.238232e-01   \n",
       "50%   -1.572570e-01 -2.958123e-01 -2.491360e-01 -1.154922e-01 -1.467552e-01   \n",
       "75%    5.260038e-01  9.749214e-02  5.435405e-01  6.448584e-01  4.910240e-01   \n",
       "max    6.791044e+00  1.129991e+01  6.282117e+00  6.667969e+00  5.097554e+00   \n",
       "\n",
       "               dim6          dim7          dim8          dim9         dim10  \\\n",
       "count  2.093000e+03  2.093000e+03  2.093000e+03  2.093000e+03  2.093000e+03   \n",
       "mean   2.251742e-17  2.257577e-16  1.078662e-16 -4.296942e-17 -6.646486e-17   \n",
       "std    1.000239e+00  1.000239e+00  1.000239e+00  1.000239e+00  1.000239e+00   \n",
       "min   -1.275367e+00 -1.166647e+00 -8.406811e-01 -1.059640e+00 -1.179971e+00   \n",
       "25%   -6.900673e-01 -7.771932e-01 -6.258517e-01 -6.820925e-01 -7.004506e-01   \n",
       "50%   -2.070083e-01 -3.144307e-01 -3.034357e-01 -1.979796e-01 -2.965535e-01   \n",
       "75%    4.805323e-01  5.377856e-01  3.269599e-01  3.191180e-01  4.253053e-01   \n",
       "max    1.121122e+01  5.447193e+00  9.412699e+00  1.333790e+01  7.576863e+00   \n",
       "\n",
       "           ...             dim491        dim492        dim493        dim494  \\\n",
       "count      ...       2.093000e+03  2.093000e+03  2.093000e+03  2.093000e+03   \n",
       "mean       ...      -3.607031e-18 -9.807943e-17  2.330779e-16 -2.851677e-16   \n",
       "std        ...       1.000239e+00  1.000239e+00  1.000239e+00  1.000239e+00   \n",
       "min        ...      -1.320488e+00 -4.686334e-01 -7.874811e-01 -1.293148e+00   \n",
       "25%        ...      -6.898876e-01 -4.686334e-01 -6.708815e-01 -7.231761e-01   \n",
       "50%        ...      -1.694410e-01 -4.686334e-01 -3.209111e-01 -1.523642e-01   \n",
       "75%        ...       5.211872e-01  9.607228e-02  3.208157e-01  5.804575e-01   \n",
       "max        ...       5.406330e+00  1.761110e+01  8.370306e+00  7.297570e+00   \n",
       "\n",
       "             dim495        dim496        dim497        dim498        dim499  \\\n",
       "count  2.093000e+03  2.093000e+03  2.093000e+03  2.093000e+03  2.093000e+03   \n",
       "mean   7.198149e-17  2.758318e-18  3.522160e-17 -8.062776e-18 -2.229994e-16   \n",
       "std    1.000239e+00  1.000239e+00  1.000239e+00  1.000239e+00  1.000239e+00   \n",
       "min   -1.370910e+00 -1.322547e+00 -9.000586e-01 -1.532385e+00 -1.244493e+00   \n",
       "25%   -7.316762e-01 -7.098779e-01 -6.713329e-01 -7.453807e-01 -7.341369e-01   \n",
       "50%   -2.200633e-01 -2.042302e-01 -2.996535e-01 -9.518560e-02 -2.237804e-01   \n",
       "75%    4.391231e-01  5.154609e-01  2.620157e-01  5.662927e-01  4.568617e-01   \n",
       "max    7.836241e+00  5.723451e+00  7.746327e+00  4.456180e+00  6.022201e+00   \n",
       "\n",
       "             dim500  \n",
       "count  2.093000e+03  \n",
       "mean   5.803077e-17  \n",
       "std    1.000239e+00  \n",
       "min   -1.077284e+00  \n",
       "25%   -7.086063e-01  \n",
       "50%   -2.697382e-01  \n",
       "75%    3.974282e-01  \n",
       "max    9.246066e+00  \n",
       "\n",
       "[8 rows x 500 columns]"
      ]
     },
     "execution_count": 114,
     "metadata": {},
     "output_type": "execute_result"
    }
   ],
   "source": [
    "# Standardise training and validation features\n",
    "stand_scaler = StandardScaler()\n",
    "stand_scaler.fit(X_train)\n",
    "X_train = pd.DataFrame(data=stand_scaler.transform(X_train), columns=attributes)\n",
    "X_valid = pd.DataFrame(data=stand_scaler.transform(X_valid), columns=attributes)\n",
    "# Show means and standard deviations\n",
    "X_train.describe()"
   ]
  },
  {
   "cell_type": "markdown",
   "metadata": {},
   "source": [
    "We're going to be trying out and printing the results of several classifiers, so let's define a function that does some of the work for us, saving us time and effort in the future:"
   ]
  },
  {
   "cell_type": "code",
   "execution_count": 115,
   "metadata": {
    "collapsed": true
   },
   "outputs": [],
   "source": [
    "def calc_accuracy_and_logloss(estimator, X_train, y_train, X_valid, y_valid, description=None):\n",
    "    \"\"\"Calculates, displays and returns accuracy and log_loss for the given estimator\"\"\"\n",
    "    estimator.fit(X_train, y_train)\n",
    "    y_valid_pred = estimator.predict(X_valid)\n",
    "    accuracy, logloss = estimator.score(X_valid, y_valid), log_loss(y_true=y_valid, y_pred=y_valid_pred)\n",
    "    if description:\n",
    "        print('Accuracy of {0}: {1}'.format(description, accuracy))\n",
    "        print('Log loss of {0}: {1}'.format(description, logloss))\n",
    "    return [accuracy, logloss]"
   ]
  },
  {
   "cell_type": "markdown",
   "metadata": {},
   "source": [
    "### Let's do this! ###\n",
    "\n",
    "Support Vector Classifiers are generally considered ideal for image classification tasks. Indeed, we saw that - in the tests in the first part of this assignment - we got the highest accuracy with an SVM classifier. Therefore, there is a good chance that we may see similar results for our new dataset. Before trying out SVCs, let's first calculate some scores using other classifiers, so that we can use them as a point of reference later on."
   ]
  },
  {
   "cell_type": "markdown",
   "metadata": {},
   "source": [
    "#### Logistic regressors"
   ]
  },
  {
   "cell_type": "code",
   "execution_count": 110,
   "metadata": {
    "collapsed": false
   },
   "outputs": [
    {
     "data": {
      "image/png": "[encoded data removed]",
      "text/plain": [
       "<matplotlib.figure.Figure at 0x112745c0>"
      ]
     },
     "metadata": {},
     "output_type": "display_data"
    }
   ],
   "source": [
    "# Try out different logistic regressors\n",
    "solver_list = ['lbfgs', 'newton-cg', 'sag', 'liblinear']\n",
    "accuracies = []\n",
    "loglosses = []\n",
    "for s in solver_list:\n",
    "    lr_temp = LogisticRegression(solver=s)\n",
    "    acc, logl = calc_accuracy_and_logloss(lr_temp, X_train, y_train, X_valid, y_valid)\n",
    "    accuracies.append(acc)\n",
    "    loglosses.append(logl)\n",
    "\n",
    "# Plot accuracy\n",
    "plt.subplot(2,1,1)\n",
    "plt1 = plt.plot(accuracies, c='b')\n",
    "plt.title('Logistic regressors', fontsize=18)\n",
    "plt.xlim(-0.2, 3.3)\n",
    "plt.xticks(range(len(solver_list)), solver_list, fontsize=13)\n",
    "plt.ylabel('accuracy', fontsize=16)\n",
    "# Plot log loss\n",
    "plt.subplot(2,1,2)\n",
    "plt2 = plt.plot(loglosses, c='r')\n",
    "plt.xlim(-0.2, 3.3)\n",
    "plt.xticks(range(len(solver_list)), solver_list, fontsize=13)\n",
    "plt.ylabel('log loss', fontsize=16)\n",
    "plt.show()"
   ]
  },
  {
   "cell_type": "code",
   "execution_count": 101,
   "metadata": {
    "collapsed": false
   },
   "outputs": [
    {
     "name": "stdout",
     "output_type": "stream",
     "text": [
      "Accuracy of optimal linear regressor (sag): 0.649595687332\n",
      "Log loss of optimal linear regressor (sag): 12.1026662364\n"
     ]
    }
   ],
   "source": [
    "# Print accuracy of most optimal logistic regressor\n",
    "optimal_solver = solver_list[np.argmin(loglosses)]\n",
    "lr_optimal = LogisticRegression(solver=optimal_solver)\n",
    "description = 'optimal linear regressor ({0})'.format(optimal_solver)\n",
    "lr_acc, lr_log = calc_accuracy_and_logloss(lr_optimal, X_train, y_train, X_valid, y_valid, description)"
   ]
  },
  {
   "cell_type": "markdown",
   "metadata": {},
   "source": [
    "#### K-nearest neighbors classifiers"
   ]
  },
  {
   "cell_type": "code",
   "execution_count": 102,
   "metadata": {
    "collapsed": false
   },
   "outputs": [
    {
     "data": {
      "image/png": "[encoded data removed]",
      "text/plain": [
       "<matplotlib.figure.Figure at 0xe82af28>"
      ]
     },
     "metadata": {},
     "output_type": "display_data"
    }
   ],
   "source": [
    "# Try out KNN with different k values\n",
    "k_list = [5, 10, 50, 100, 200, 500, 1000, 1500, 2000]\n",
    "accuracies = []\n",
    "loglosses = []\n",
    "for k in k_list:\n",
    "    knn_temp = KNeighborsClassifier(n_neighbors=k)\n",
    "    acc, logl = calc_accuracy_and_logloss(knn_temp, X_train, y_train, X_valid, y_valid)\n",
    "    accuracies.append(acc)\n",
    "    loglosses.append(logl)\n",
    "# Plot results\n",
    "plt.subplot(2,1,1)\n",
    "plt.title('K-nearest neighbors classification', fontsize=18)\n",
    "plt.plot(k_list, accuracies, c='b')\n",
    "plt.ylabel('Accuracy', fontsize=16)\n",
    "plt.subplot(2,1,2)\n",
    "plt.plot(k_list, loglosses, c='r')\n",
    "plt.xlabel('# nearest neighbours', fontsize=16)\n",
    "plt.ylabel('Logarithmic loss', fontsize=16)\n",
    "plt.show()"
   ]
  },
  {
   "cell_type": "code",
   "execution_count": 103,
   "metadata": {
    "collapsed": false,
    "scrolled": false
   },
   "outputs": [
    {
     "name": "stdout",
     "output_type": "stream",
     "text": [
      "Accuracy of KNN classifier with optimal k=50: 0.679245283019\n",
      "Log loss of KNN classifier with optimal k=50: 11.07864212\n"
     ]
    }
   ],
   "source": [
    "# Get optimal KNN classifier\n",
    "optimal_k = k_list[np.argmin(loglosses)]\n",
    "knn_optimal = KNeighborsClassifier(n_neighbors=optimal_k)\n",
    "description = 'KNN classifier with optimal k={0}'.format(optimal_k)\n",
    "knn_acc, knn_log = calc_accuracy_and_logloss(knn_optimal, X_train, y_train, X_valid, y_valid, description)"
   ]
  },
  {
   "cell_type": "markdown",
   "metadata": {},
   "source": [
    "#### Tree classifiers"
   ]
  },
  {
   "cell_type": "code",
   "execution_count": 117,
   "metadata": {
    "collapsed": false,
    "scrolled": false
   },
   "outputs": [
    {
     "data": {
      "image/png": "[encoded data removed]",
      "text/plain": [
       "<matplotlib.figure.Figure at 0x1b4c4160>"
      ]
     },
     "metadata": {},
     "output_type": "display_data"
    }
   ],
   "source": [
    "# Try out KNN with different k values\n",
    "trees_list = [DecisionTreeClassifier(), ExtraTreeClassifier(), RandomForestClassifier()]\n",
    "trees_labels = ['Decision tree', 'Extra tree', 'Random forest']\n",
    "accuracies = []\n",
    "loglosses = []\n",
    "for tree in trees_list:\n",
    "    acc, logl = calc_accuracy_and_logloss(tree, X_train, y_train, X_valid, y_valid)\n",
    "    accuracies.append(acc)\n",
    "    loglosses.append(logl)\n",
    "# Plot results\n",
    "plt.subplot(2,1,1)\n",
    "plt.title('Tree classification', fontsize=18)\n",
    "plt.plot(accuracies, c='b')\n",
    "plt.xticks(range(len(trees_list)), trees_labels, fontsize=13)\n",
    "plt.xlim(-0.2, 2.2)\n",
    "plt.ylabel('Accuracy', fontsize=16)\n",
    "plt.subplot(2,1,2)\n",
    "plt.plot(loglosses, c='r')\n",
    "plt.xticks(range(len(trees_list)), trees_labels, fontsize=13)\n",
    "plt.xlim(-0.2, 2.2)\n",
    "plt.ylabel('Logarithmic loss', fontsize=16)\n",
    "plt.show()"
   ]
  },
  {
   "cell_type": "code",
   "execution_count": 120,
   "metadata": {
    "collapsed": false,
    "scrolled": false
   },
   "outputs": [
    {
     "name": "stdout",
     "output_type": "stream",
     "text": [
      "Accuracy of optimal tree classifier (Random forest): 0.653189577718\n",
      "Log loss of optimal tree classifier (Random forest): 11.9784909629\n"
     ]
    }
   ],
   "source": [
    "# Get optimal tree classifier\n",
    "tr_optimal = trees_list[np.argmin(loglosses)]\n",
    "description = 'optimal tree classifier ({0})'.format(trees_labels[np.argmin(loglosses)])\n",
    "tr_acc, tr_log = calc_accuracy_and_logloss(tr_optimal, X_train, y_train, X_valid, y_valid, description)"
   ]
  },
  {
   "cell_type": "markdown",
   "metadata": {},
   "source": [
    "### Overview"
   ]
  },
  {
   "cell_type": "code",
   "execution_count": 130,
   "metadata": {
    "collapsed": false
   },
   "outputs": [
    {
     "data": {
      "image/png": "[encoded data removed]",
      "text/plain": [
       "<matplotlib.figure.Figure at 0x1b9cf128>"
      ]
     },
     "metadata": {},
     "output_type": "display_data"
    }
   ],
   "source": [
    "# Gather scores\n",
    "basic_accuracies = [lr_acc, tr_acc, knn_acc, svc_linear_acc, svc_poly_acc, svc_rbf_acc]\n",
    "basics_loglosses = [lr_log, tr_log, knn_log, svc_linear_log, svc_poly_log, svc_rbf_log]\n",
    "basic_labels = ['logistic', 'trees', 'KNN', 'SVN linear', 'SVN poly', 'SVN RBF']\n",
    "# Plot scores\n",
    "plt.subplot(2,1,1)\n",
    "plt.title('Classifiers', fontsize=18)\n",
    "plt.plot(basic_accuracies, c='b')\n",
    "plt.xticks(range(len(basic_accuracies)), basic_labels, fontsize=13)\n",
    "#plt.xlim(-0.2, 2.2)\n",
    "plt.ylabel('Accuracy', fontsize=16)\n",
    "plt.subplot(2,1,2)\n",
    "plt.plot(basics_loglosses, c='r')\n",
    "plt.xticks(range(len(basic_accuracies)), basic_labels, fontsize=13)\n",
    "#plt.xlim(-0.2, 2.2)\n",
    "plt.ylabel('Logarithmic loss', fontsize=16)\n",
    "plt.show()"
   ]
  },
  {
   "cell_type": "markdown",
   "metadata": {},
   "source": [
    "### Support Vector Classifiers: RBF, linear and polynomial"
   ]
  },
  {
   "cell_type": "code",
   "execution_count": 97,
   "metadata": {
    "collapsed": false
   },
   "outputs": [
    {
     "name": "stdout",
     "output_type": "stream",
     "text": [
      "Accuracy of SVC with RBF kernel (default settings): 0.729559748428\n",
      "Log loss of SVC with RBF kernel (default settings): 9.34076015037\n"
     ]
    }
   ],
   "source": [
    "# SVC with RBF kernel (default settings)\n",
    "svc_rbf = SVC(kernel='rbf')\n",
    "description = 'SVC with RBF kernel (default settings)'\n",
    "svc_rbf_acc, svc_rbf_log = calc_accuracy_and_logloss(svc_rbf, X_train, y_train, X_valid, y_valid, description)"
   ]
  },
  {
   "cell_type": "markdown",
   "metadata": {},
   "source": [
    "This is a pretty decent accuracy. Let's try a few different classifiers and compare the accuracy."
   ]
  },
  {
   "cell_type": "code",
   "execution_count": 98,
   "metadata": {
    "collapsed": false
   },
   "outputs": [
    {
     "name": "stdout",
     "output_type": "stream",
     "text": [
      "Accuracy of SVC with linear kernel (default settings): 0.638814016173\n",
      "Log loss of SVC with linear kernel (default settings): 12.4750641788\n"
     ]
    }
   ],
   "source": [
    "# SVC with linear kernel (default settings)\n",
    "svc_linear = SVC(kernel='linear')\n",
    "description = 'SVC with linear kernel (default settings)'\n",
    "svc_linear_acc, svc_linear_log = calc_accuracy_and_logloss(svc_linear, X_train, y_train, X_valid, y_valid, description)"
   ]
  },
  {
   "cell_type": "code",
   "execution_count": 99,
   "metadata": {
    "collapsed": false
   },
   "outputs": [
    {
     "name": "stdout",
     "output_type": "stream",
     "text": [
      "Accuracy of SVC with polynomial kernel (default settings): 0.701707097934\n",
      "Log loss of SVC with polynomial kernel (default settings): 10.3027889465\n"
     ]
    }
   ],
   "source": [
    "# SVC with polynomial kernel (default settings)\n",
    "svc_poly = SVC(kernel='poly')\n",
    "description = 'SVC with polynomial kernel (default settings)'\n",
    "svc_poly_acc, svc_poly_log = calc_accuracy_and_logloss(svc_poly, X_train, y_train, X_valid, y_valid, description)"
   ]
  },
  {
   "cell_type": "markdown",
   "metadata": {},
   "source": [
    "### SUBMITTING ###"
   ]
  },
  {
   "cell_type": "code",
   "execution_count": null,
   "metadata": {
    "collapsed": false
   },
   "outputs": [],
   "source": []
  },
  {
   "cell_type": "code",
   "execution_count": 105,
   "metadata": {
    "collapsed": false
   },
   "outputs": [
    {
     "ename": "NameError",
     "evalue": "name 'pred_proba' is not defined",
     "output_type": "error",
     "traceback": [
      "\u001b[1;31m\u001b[0m",
      "\u001b[1;31mNameError\u001b[0mTraceback (most recent call last)",
      "\u001b[1;32m<ipython-input-105-ad37b51ef2b9>\u001b[0m in \u001b[0;36m<module>\u001b[1;34m()\u001b[0m\n\u001b[0;32m      9\u001b[0m     \u001b[0msavetxt\u001b[0m\u001b[1;33m(\u001b[0m\u001b[1;34m'assignment_3_predictions.txt'\u001b[0m\u001b[1;33m,\u001b[0m \u001b[0mpred_proba\u001b[0m\u001b[1;33m)\u001b[0m\u001b[1;33m\u001b[0m\u001b[0m\n\u001b[0;32m     10\u001b[0m \u001b[1;33m\u001b[0m\u001b[0m\n\u001b[1;32m---> 11\u001b[1;33m \u001b[0msave_predictions\u001b[0m\u001b[1;33m(\u001b[0m\u001b[0mpred_proba\u001b[0m\u001b[1;33m)\u001b[0m \u001b[1;31m# You need to replace \"pred_proba\" with the name of the array\u001b[0m\u001b[1;33m\u001b[0m\u001b[0m\n\u001b[0m\u001b[0;32m     12\u001b[0m                              \u001b[1;31m# which contains the probability estimates for the data in\u001b[0m\u001b[1;33m\u001b[0m\u001b[1;33m\u001b[0m\u001b[0m\n\u001b[0;32m     13\u001b[0m                              \u001b[1;31m# the test set.\u001b[0m\u001b[1;33m\u001b[0m\u001b[1;33m\u001b[0m\u001b[0m\n",
      "\u001b[1;31mNameError\u001b[0m: name 'pred_proba' is not defined"
     ]
    }
   ],
   "source": [
    "# DONT FORGET TO STANDARDISE TESTING DATA (and maybe remove outliers)!\n",
    "\n",
    "# Execute this cell to export your results\n",
    "from numpy import savetxt\n",
    "def save_predictions(pred_proba):\n",
    "    if pred_proba.shape != (1114,2):\n",
    "        raise ValueError('Predicted probabilities array has not the right shape.')\n",
    "    \n",
    "    savetxt('assignment_3_predictions.txt', pred_proba)\n",
    "\n",
    "save_predictions(pred_proba) # You need to replace \"pred_proba\" with the name of the array\n",
    "                             # which contains the probability estimates for the data in \n",
    "                             # the test set."
   ]
  },
  {
   "cell_type": "markdown",
   "metadata": {},
   "source": [
    "*Your answer goes here*\n",
    "\n"
   ]
  }
 ],
 "metadata": {
  "anaconda-cloud": {},
  "kernelspec": {
   "display_name": "Python [iaml]",
   "language": "python",
   "name": "Python [iaml]"
  },
  "language_info": {
   "codemirror_mode": {
    "name": "ipython",
    "version": 2
   },
   "file_extension": ".py",
   "mimetype": "text/x-python",
   "name": "python",
   "nbconvert_exporter": "python",
   "pygments_lexer": "ipython2",
   "version": "2.7.12"
  }
 },
 "nbformat": 4,
 "nbformat_minor": 0
}
